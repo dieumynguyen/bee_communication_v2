{
 "cells": [
  {
   "cell_type": "code",
   "execution_count": 2,
   "metadata": {},
   "outputs": [],
   "source": [
    "import numpy as np\n",
    "import matplotlib.pyplot as plt\n",
    "from matplotlib import animation\n",
    "from IPython.display import HTML"
   ]
  },
  {
   "cell_type": "code",
   "execution_count": 62,
   "metadata": {},
   "outputs": [],
   "source": [
    "class FrameAnimator(object):\n",
    "    \n",
    "    def __init__(self, figsize=(6, 5)):\n",
    "        self.figsize = figsize\n",
    "        \n",
    "    def build(self, imgs, max_concentration,\n",
    "              positions_x, positions_y,\n",
    "              gradient_history,\n",
    "              frame_start_i, frame_stop_i, \n",
    "              interval=100, blit=True, text=None):\n",
    "        \n",
    "        fig, ax = plt.subplots(1, figsize=self.figsize)\n",
    "        concentration_plot = ax.imshow(imgs[0], vmin=0, vmax=max_concentration, cmap=\"Greens\")\n",
    "        scatter_plot = ax.scatter([], [], c=\"orange\", s=80, edgecolors='black')\n",
    "        quiver_plot = ax.quiver(positions_x[0], positions_y[0], gradient_history[0][0], gradient_history[0][1], color=\"black\")\n",
    "\n",
    "        fig.colorbar(concentration_plot, ax=ax, shrink=1)\n",
    "        ax.axis('on')\n",
    "        \n",
    "        def init():\n",
    "            concentration_plot.set_array(np.zeros_like(imgs[0]))\n",
    "            scatter_plot.set_offsets(np.array([0, 0]))\n",
    "            quiver_plot.set_offsets([0, 0, 0, 0])\n",
    "            return (concentration_plot, scatter_plot, quiver_plot)\n",
    "        \n",
    "        def animate(i):\n",
    "            concentration_plot.set_array(imgs[i])\n",
    "            scatter_plot.set_offsets(np.array([positions_x[i], positions_y[i]]))\n",
    "            quiver_plot.set_offsets(np.array([positions_x[i], positions_y[i]]))\n",
    "            quiver_plot.set_UVC(gradient_history[i][0], gradient_history[i][1])\n",
    "            text_str = text[i] if text is not None else \"\"\n",
    "            ax.set_title(\"Frame {}/{} -- {}\".format(frame_start_i+i, frame_stop_i, text_str))\n",
    "            \n",
    "            return (concentration_plot, scatter_plot, quiver_plot)\n",
    "            \n",
    "        \n",
    "        plt.close()\n",
    "        self.anim = animation.FuncAnimation(fig, animate, \n",
    "                                           init_func=init,\n",
    "                                           frames=len(imgs),\n",
    "                                           interval=interval,\n",
    "                                           blit=blit,\n",
    "                                           repeat=False)\n",
    "        \n",
    "    def visualize(self, mode='HTML'):\n",
    "        if mode == 'HTML':\n",
    "            return HTML(self.anim.to_html5_video())\n",
    "        elif mode == 'jsHTLM':\n",
    "            return HTML(self.anim.to_jshtml())"
   ]
  },
  {
   "cell_type": "code",
   "execution_count": null,
   "metadata": {},
   "outputs": [],
   "source": []
  }
 ],
 "metadata": {
  "kernelspec": {
   "display_name": "Python 3",
   "language": "python",
   "name": "python3"
  },
  "language_info": {
   "codemirror_mode": {
    "name": "ipython",
    "version": 3
   },
   "file_extension": ".py",
   "mimetype": "text/x-python",
   "name": "python",
   "nbconvert_exporter": "python",
   "pygments_lexer": "ipython3",
   "version": "3.6.4"
  }
 },
 "nbformat": 4,
 "nbformat_minor": 2
}
