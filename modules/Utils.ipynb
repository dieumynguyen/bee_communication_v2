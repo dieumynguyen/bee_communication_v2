{
 "cells": [
  {
   "cell_type": "code",
   "execution_count": 5,
   "metadata": {},
   "outputs": [],
   "source": [
    "import cv2\n",
    "import glob2\n",
    "import time\n",
    "import os\n",
    "import numpy as np\n",
    "import matplotlib.pyplot as plt\n",
    "try:\n",
    "    import ipynb.fs.full.modules.Config as config\n",
    "except:\n",
    "    import ipynb.fs.full.Config as config"
   ]
  },
  {
   "cell_type": "code",
   "execution_count": 6,
   "metadata": {},
   "outputs": [],
   "source": [
    "def timer(t_threshold):\n",
    "    def inner1(fn):\n",
    "        def inner2(*args, **kwargs):\n",
    "            t0 = time.time()\n",
    "            x = fn(*args, **kwargs)\n",
    "            t_total = time.time() - t0\n",
    "            if t_total > t_threshold:\n",
    "                print(f\"\\n{fn.__name__} took {t_total:0.2f}s to run.\")\n",
    "            return x\n",
    "        return inner2\n",
    "    return inner1"
   ]
  },
  {
   "cell_type": "code",
   "execution_count": 7,
   "metadata": {},
   "outputs": [],
   "source": [
    "def plot(global_i, queen_bee, bees, environment, max_conc, save_dir, bees_to_vis=None):\n",
    "    import matplotlib.colors as colors\n",
    "    plt.figure(figsize=(5,5))\n",
    "    \n",
    "    # ENVIRONMENT\n",
    "    if bees_to_vis is not None:\n",
    "        c_map = []\n",
    "        for bee_to_vis in bees_to_vis:\n",
    "            for src in environment.concentration_map_i:\n",
    "                if bee_to_vis in src.keys():\n",
    "                    c_map.append(src[bee_to_vis])\n",
    "        \n",
    "        if c_map == []:\n",
    "            c_map = np.zeros_like(environment.concentration_map)\n",
    "        else:\n",
    "            c_map = np.array(c_map).sum(axis=0)\n",
    "            \n",
    "        plt.imshow(c_map, cmap='viridis', vmin=None, vmax=max_conc)\n",
    "    else:\n",
    "        plt.imshow(environment.concentration_map, cmap='viridis', vmin=None, vmax=max_conc)\n",
    "        \n",
    "    plt.colorbar(shrink=0.8, format='%.2e')  \n",
    "    \n",
    "    # QUEEN\n",
    "    queen_x = environment.convert_xy_to_index(queen_bee.x)\n",
    "    queen_y = environment.convert_xy_to_index(queen_bee.y)\n",
    "    plt.scatter(queen_x, queen_y, c=\"red\", s=100, edgecolors='black', marker='o')     \n",
    "    \n",
    "    # BEES\n",
    "    for bee_i, bee in enumerate(bees):\n",
    "        x_bee = environment.convert_xy_to_index(bee.x)\n",
    "        y_bee = environment.convert_xy_to_index(bee.y)\n",
    "        if bee.state == \"wait\" or bee.state == \"emit\":\n",
    "            plt.scatter(x_bee, y_bee, c=\"#479030\", s=30, edgecolors='black') \n",
    "        elif bee.state == \"directed_walk\": \n",
    "            plt.scatter(x_bee, y_bee, c=\"orange\", s=30, edgecolors='black') \n",
    "        else: \n",
    "            plt.scatter(x_bee, y_bee, c=\"gray\", s=30, edgecolors='black') \n",
    "\n",
    "    \n",
    "    # Formatting\n",
    "    # ---------------------------------------------------------------------------------\n",
    "    colors = [\"red\", \"gray\", \"#479030\", \"orange\"]\n",
    "    texts = [\"Queen\", \"Worker - random walk\", \"Worker - scenting\", \"Worker - directed walk\"]\n",
    "    patches = [ plt.plot([],[], marker=\"o\", ms=5, ls=\"\", mec=None, color=colors[i], \n",
    "                 markeredgecolor=\"black\", label=\"{:s}\".format(texts[i]) )[0]  for i in range(len(texts)) ]\n",
    "    plt.legend(handles=patches, bbox_to_anchor=(0.5, -0.22), \n",
    "               loc='center', ncol=2, numpoints=1, labelspacing=0.3,\n",
    "               fontsize='small', fancybox=\"True\",\n",
    "               handletextpad=0, columnspacing=0)\n",
    "    plt.xlabel(\"x\")\n",
    "    plt.ylabel(\"y\")\n",
    "    plt.xlim(0, 600)\n",
    "    plt.ylim(600, 0) \n",
    "    if len(bees) > 0:\n",
    "        plt.title(f\"Q{queen_bee.A}_W{bee.A}_D{environment.D}_T{bee.threshold}_wb{bee.wb}_decay{environment.decay_rate} \\n t: {global_i+1}/{environment.t_grid.shape[0]}\")\n",
    "    else:\n",
    "        plt.title(f\"Q{queen_bee.A}_D{environment.D}_decay{environment.decay_rate} \\n t: {global_i+1}/{environment.t_grid.shape[0]}\")\n",
    "\n",
    "    # ---------------------------------------------------------------------------------\n",
    "    \n",
    "    # Save\n",
    "    # ---------------------------------------------------------------------------------\n",
    "    file_path = f\"t{global_i+1:03d}.png\"\n",
    "    filename = f'{save_dir}/{file_path}'\n",
    "#     plt.savefig(filename, bbox_inches='tight', dpi=200)\n",
    "    plt.savefig(filename, dpi=200)\n",
    "    plt.close()\n",
    "    # ---------------------------------------------------------------------------------"
   ]
  },
  {
   "cell_type": "code",
   "execution_count": null,
   "metadata": {},
   "outputs": [],
   "source": [
    "def setup_directories(parent_dir):\n",
    "    if not os.path.exists(parent_dir):\n",
    "        print(f\"\\nCreating directory at {parent_dir}...\")\n",
    "        os.makedirs(parent_dir)"
   ]
  },
  {
   "cell_type": "code",
   "execution_count": null,
   "metadata": {},
   "outputs": [],
   "source": [
    "def read_imgs(img_dir):\n",
    "    img_paths = np.sort(glob2.glob(f\"{img_dir}/t*.png\"))\n",
    "    imgs = [cv2.imread(img_path) for img_path in img_paths]\n",
    "    return imgs"
   ]
  },
  {
   "cell_type": "code",
   "execution_count": null,
   "metadata": {},
   "outputs": [],
   "source": [
    "def imgs2vid(imgs, outpath, fps=12):\n",
    "    height, width, layers = imgs[0].shape\n",
    "    fourcc = cv2.VideoWriter_fourcc(\"m\", \"p\", \"v\", \"4\")\n",
    "    video = cv2.VideoWriter(outpath, fourcc, fps, (width, height), True)\n",
    "    \n",
    "    for img in imgs:\n",
    "        video.write(img)\n",
    "\n",
    "    cv2.destroyAllWindows()\n",
    "    video.release()"
   ]
  }
 ],
 "metadata": {
  "kernelspec": {
   "display_name": "Python 3",
   "language": "python",
   "name": "python3"
  },
  "language_info": {
   "codemirror_mode": {
    "name": "ipython",
    "version": 3
   },
   "file_extension": ".py",
   "mimetype": "text/x-python",
   "name": "python",
   "nbconvert_exporter": "python",
   "pygments_lexer": "ipython3",
   "version": "3.6.4"
  }
 },
 "nbformat": 4,
 "nbformat_minor": 2
}
