{
 "cells": [
  {
   "cell_type": "code",
   "execution_count": 160,
   "metadata": {},
   "outputs": [],
   "source": [
    "import h5py\n",
    "import numpy as np\n",
    "import glob2\n",
    "import os\n",
    "import itertools\n",
    "import matplotlib.pyplot as plt\n",
    "import seaborn as sns\n",
    "import json\n",
    "import pandas as pd"
   ]
  },
  {
   "cell_type": "code",
   "execution_count": 161,
   "metadata": {},
   "outputs": [],
   "source": [
    "# All params\n",
    "Q_list = [0.15]\n",
    "W_list = [0.15]\n",
    "D_list = [0.6]\n",
    "T_list = [0.00001, 0.0001, 0.001, 0.01, 0.025, 0.05, 0.075, 0.1, 0.25, 0.5, 0.75, 1.0]\n",
    "decay_list = [18.0]\n",
    "\n",
    "seed_list = list(np.arange(0, 25))"
   ]
  },
  {
   "cell_type": "code",
   "execution_count": 162,
   "metadata": {},
   "outputs": [],
   "source": [
    "n_experiments = len(T_list)\n",
    "n_timesteps = 8000\n",
    "n_trials = 25"
   ]
  },
  {
   "cell_type": "code",
   "execution_count": 163,
   "metadata": {},
   "outputs": [],
   "source": [
    "density_dict = {\"35\": [0.001, 0.01],  # Optimal T for wb=0 and wb=5\n",
    "                \"70\": [0.001, 0.025],\n",
    "                \"140\": [0.025, 0.1]\n",
    "               }"
   ]
  },
  {
   "cell_type": "code",
   "execution_count": 164,
   "metadata": {},
   "outputs": [],
   "source": [
    "density = 35\n",
    "wb = 0\n",
    "\n",
    "# Distance data \n",
    "filename = f\"worker_concentration/wb={wb}/concentration_data_{density}.json\"\n",
    "filename2 = f\"scenting_data/wb={wb}/state_data_{density}.json\"\n",
    "\n",
    "with open(filename) as f:\n",
    "    concentration_data = json.load(f)\n",
    "\n",
    "with open(filename2) as f2:\n",
    "    state_data = json.load(f2)"
   ]
  },
  {
   "cell_type": "code",
   "execution_count": 165,
   "metadata": {},
   "outputs": [
    {
     "data": {
      "text/plain": [
       "dict_keys(['Q0.15_W0.15_D0.6_T0.0000_wb0.0_decay18.0', 'Q0.15_W0.15_D0.6_T0.0001_wb0.0_decay18.0', 'Q0.15_W0.15_D0.6_T0.0010_wb0.0_decay18.0', 'Q0.15_W0.15_D0.6_T0.0100_wb0.0_decay18.0', 'Q0.15_W0.15_D0.6_T0.0250_wb0.0_decay18.0', 'Q0.15_W0.15_D0.6_T0.0500_wb0.0_decay18.0', 'Q0.15_W0.15_D0.6_T0.0750_wb0.0_decay18.0', 'Q0.15_W0.15_D0.6_T0.1000_wb0.0_decay18.0', 'Q0.15_W0.15_D0.6_T0.2500_wb0.0_decay18.0', 'Q0.15_W0.15_D0.6_T0.5000_wb0.0_decay18.0', 'Q0.15_W0.15_D0.6_T0.7500_wb0.0_decay18.0', 'Q0.15_W0.15_D0.6_T1.0000_wb0.0_decay18.0'])"
      ]
     },
     "execution_count": 165,
     "metadata": {},
     "output_type": "execute_result"
    }
   ],
   "source": [
    "concentration_data.keys()"
   ]
  },
  {
   "cell_type": "code",
   "execution_count": 166,
   "metadata": {},
   "outputs": [],
   "source": [
    "optimal_T = 0.001\n",
    "bias = 0\n",
    "\n",
    "concentrations = concentration_data[f'Q0.15_W0.15_D0.6_T{optimal_T:0.4f}_wb{bias:0.1f}_decay18.0']"
   ]
  },
  {
   "cell_type": "code",
   "execution_count": 167,
   "metadata": {
    "scrolled": true
   },
   "outputs": [],
   "source": [
    "# Get the mean distances over 25 trials/seeds\n",
    "concentration_means = []\n",
    "for trial_i, trial in enumerate(concentrations):\n",
    "    concentration_means.append(concentrations[trial])\n",
    "\n",
    "# Make concentration df\n",
    "concentration_means = np.array(concentration_means)\n",
    "concentration_means_array = np.mean(np.array(concentration_means), axis=0)\n",
    "concentration_df = pd.DataFrame(data=concentration_means_array, columns=['Concentration'])"
   ]
  },
  {
   "cell_type": "code",
   "execution_count": 189,
   "metadata": {},
   "outputs": [
    {
     "data": {
      "text/plain": [
       "[500, 1000, 1500, 2000, 5000, 8000]"
      ]
     },
     "execution_count": 189,
     "metadata": {},
     "output_type": "execute_result"
    }
   ],
   "source": [
    "bins = list(np.arange(500, 1501, 500)) + list(np.arange(2000, 8001, 3000))\n",
    "bins"
   ]
  },
  {
   "cell_type": "code",
   "execution_count": 190,
   "metadata": {
    "scrolled": true
   },
   "outputs": [
    {
     "data": {
      "text/plain": [
       "(8000, 1)"
      ]
     },
     "execution_count": 190,
     "metadata": {},
     "output_type": "execute_result"
    }
   ],
   "source": [
    "time_dfs = []\n",
    "for b_i, b in enumerate(bins):\n",
    "    if b_i > 0:\n",
    "        interval = bins[b_i] - bins[b_i-1]\n",
    "    else:\n",
    "        interval = b\n",
    "    \n",
    "    time_np = np.ones(interval) * b_i+1\n",
    "    time_df = pd.DataFrame(data=time_np, columns=['TimeBin'])\n",
    "    time_dfs.append(time_df)\n",
    "\n",
    "total_time_df = pd.concat(time_dfs, axis=0, ignore_index=True)\n",
    "total_time_df.shape"
   ]
  },
  {
   "cell_type": "code",
   "execution_count": 191,
   "metadata": {
    "scrolled": true
   },
   "outputs": [
    {
     "data": {
      "text/html": [
       "<div>\n",
       "<style scoped>\n",
       "    .dataframe tbody tr th:only-of-type {\n",
       "        vertical-align: middle;\n",
       "    }\n",
       "\n",
       "    .dataframe tbody tr th {\n",
       "        vertical-align: top;\n",
       "    }\n",
       "\n",
       "    .dataframe thead th {\n",
       "        text-align: right;\n",
       "    }\n",
       "</style>\n",
       "<table border=\"1\" class=\"dataframe\">\n",
       "  <thead>\n",
       "    <tr style=\"text-align: right;\">\n",
       "      <th></th>\n",
       "      <th>Concentration</th>\n",
       "      <th>TimeBin</th>\n",
       "    </tr>\n",
       "  </thead>\n",
       "  <tbody>\n",
       "    <tr>\n",
       "      <th>0</th>\n",
       "      <td>0.004186</td>\n",
       "      <td>1.0</td>\n",
       "    </tr>\n",
       "    <tr>\n",
       "      <th>1</th>\n",
       "      <td>0.007650</td>\n",
       "      <td>1.0</td>\n",
       "    </tr>\n",
       "    <tr>\n",
       "      <th>2</th>\n",
       "      <td>0.015857</td>\n",
       "      <td>1.0</td>\n",
       "    </tr>\n",
       "    <tr>\n",
       "      <th>3</th>\n",
       "      <td>0.018304</td>\n",
       "      <td>1.0</td>\n",
       "    </tr>\n",
       "    <tr>\n",
       "      <th>4</th>\n",
       "      <td>0.022736</td>\n",
       "      <td>1.0</td>\n",
       "    </tr>\n",
       "  </tbody>\n",
       "</table>\n",
       "</div>"
      ],
      "text/plain": [
       "   Concentration  TimeBin\n",
       "0       0.004186      1.0\n",
       "1       0.007650      1.0\n",
       "2       0.015857      1.0\n",
       "3       0.018304      1.0\n",
       "4       0.022736      1.0"
      ]
     },
     "execution_count": 191,
     "metadata": {},
     "output_type": "execute_result"
    }
   ],
   "source": [
    "total_df = pd.concat((concentration_df, total_time_df), axis=1)\n",
    "total_df.head()"
   ]
  },
  {
   "cell_type": "code",
   "execution_count": 192,
   "metadata": {},
   "outputs": [
    {
     "data": {
      "image/png": "[encoded data removed]",
      "text/plain": [
       "<matplotlib.figure.Figure at 0x1a15e4ab70>"
      ]
     },
     "metadata": {},
     "output_type": "display_data"
    }
   ],
   "source": [
    "for i in range(6):\n",
    "    bin_distribution = total_df.loc[total_df['TimeBin'] == i+1]\n",
    "    sns.distplot(bin_distribution['Concentration'] , norm_hist=False, kde=False, bins=100)\n",
    "    plt.ylabel('Frequency')"
   ]
  },
  {
   "cell_type": "code",
   "execution_count": null,
   "metadata": {},
   "outputs": [],
   "source": []
  }
 ],
 "metadata": {
  "kernelspec": {
   "display_name": "Python 3",
   "language": "python",
   "name": "python3"
  },
  "language_info": {
   "codemirror_mode": {
    "name": "ipython",
    "version": 3
   },
   "file_extension": ".py",
   "mimetype": "text/x-python",
   "name": "python",
   "nbconvert_exporter": "python",
   "pygments_lexer": "ipython3",
   "version": "3.6.4"
  },
  "toc": {
   "base_numbering": 1,
   "nav_menu": {},
   "number_sections": true,
   "sideBar": true,
   "skip_h1_title": false,
   "title_cell": "Table of Contents",
   "title_sidebar": "Contents",
   "toc_cell": false,
   "toc_position": {},
   "toc_section_display": true,
   "toc_window_display": false
  }
 },
 "nbformat": 4,
 "nbformat_minor": 2
}
