{
 "cells": [
  {
   "cell_type": "markdown",
   "metadata": {},
   "source": [
    "### Imports"
   ]
  },
  {
   "cell_type": "code",
   "execution_count": 173,
   "metadata": {},
   "outputs": [],
   "source": [
    "import warnings\n",
    "warnings.filterwarnings(\"ignore\")\n",
    "\n",
    "import os\n",
    "import sys\n",
    "import numpy as np\n",
    "import glob2\n",
    "import h5py\n",
    "import matplotlib.pyplot as plt\n",
    "\n",
    "%matplotlib inline"
   ]
  },
  {
   "cell_type": "markdown",
   "metadata": {},
   "source": [
    "### Config from modules for ipynb"
   ]
  },
  {
   "cell_type": "code",
   "execution_count": 174,
   "metadata": {},
   "outputs": [],
   "source": [
    "import ipynb\n",
    "import importlib\n",
    "import ipynb.fs.full.modules.Config as ipynb_config"
   ]
  },
  {
   "cell_type": "code",
   "execution_count": 175,
   "metadata": {},
   "outputs": [
    {
     "data": {
      "text/plain": [
       "<module 'ipynb.fs.full.modules.Config' (/Users/dieumynguyen/Desktop/Projects/bee_communication_v2/ipynb/modules/Config.ipynb)>"
      ]
     },
     "execution_count": 175,
     "metadata": {},
     "output_type": "execute_result"
    }
   ],
   "source": [
    "importlib.reload(ipynb_config)"
   ]
  },
  {
   "cell_type": "code",
   "execution_count": 158,
   "metadata": {},
   "outputs": [],
   "source": [
    "X_MIN = ipynb_config.X_MIN\n",
    "X_MAX = ipynb_config.X_MAX\n",
    "DX = ipynb_config.DX\n",
    "GRID_SIZE = np.arange(X_MIN, X_MAX+DX, DX).shape[0]\n",
    "D = ipynb_config.DIFFUSION_COEFFICIENT\n",
    "DECAY = ipynb_config.DECAY\n",
    "T_MIN = ipynb_config.T_MIN\n",
    "T_MAX = ipynb_config.T_MAX\n",
    "DT = ipynb_config.DT\n",
    "NUM_TIMESTEPS = np.arange(T_MIN, T_MAX+DT, DT).shape[0]\n",
    "QUEEN_BEE_A = ipynb_config.QUEEN_INITIAL_CONCENTRATION\n",
    "WORKER_BEE_A = ipynb_config.WORKER_INITIAL_CONCENTRATION\n",
    "THRESHOLD = ipynb_config.WORKER_THRESHOLD\n",
    "WB = ipynb_config.WORKER_BIAS_SCALAR\n",
    "convert_xy_to_index = lambda xy: ((xy - X_MIN) / (X_MAX - X_MIN)) * GRID_SIZE"
   ]
  },
  {
   "cell_type": "markdown",
   "metadata": {},
   "source": [
    "### Config from script "
   ]
  },
  {
   "cell_type": "code",
   "execution_count": 159,
   "metadata": {},
   "outputs": [],
   "source": [
    "def read_config(base_exp_dir):\n",
    "    cfg_path = glob2.glob(f\"{base_exp_dir}/*.cfg\")[0]\n",
    "    cfg_path, os.path.exists(cfg_path)\n",
    "\n",
    "    with open(cfg_path, \"r\") as infile:\n",
    "        lines = [line.split() for line in infile]\n",
    "        cfg_opts = {}\n",
    "        for key, val in lines:\n",
    "            key = key.replace('--', '')\n",
    "\n",
    "            try:\n",
    "                val = float(val)\n",
    "            except:\n",
    "                try:\n",
    "                    val = int(val)\n",
    "                except:\n",
    "                    if val.startswith(\"T\"):\n",
    "                        val = True\n",
    "                    elif val.startswith(\"F\"):\n",
    "                        val = False\n",
    "                    pass\n",
    "            cfg_opts[key] = val\n",
    "    return cfg_opts"
   ]
  },
  {
   "cell_type": "code",
   "execution_count": 176,
   "metadata": {},
   "outputs": [],
   "source": [
    "base_exp_dir = \"cfg__exp_1__2019-01-23_01-21-50\"\n",
    "script_config = read_config(base_exp_dir)"
   ]
  },
  {
   "cell_type": "markdown",
   "metadata": {},
   "source": [
    "### Read h5 data & visualization"
   ]
  },
  {
   "cell_type": "code",
   "execution_count": 177,
   "metadata": {},
   "outputs": [],
   "source": [
    "ipynb_dev_config = False"
   ]
  },
  {
   "cell_type": "code",
   "execution_count": 181,
   "metadata": {},
   "outputs": [
    {
     "name": "stdout",
     "output_type": "stream",
     "text": [
      "True True cfg__exp_1__2019-01-23_01-21-50/envir_hist.h5\n"
     ]
    }
   ],
   "source": [
    "if not ipynb_dev_config:\n",
    "    env_path = os.path.join(base_exp_dir, \"envir_hist.h5\")\n",
    "    bee_path = os.path.join(base_exp_dir, \"bee_hist.h5\")\n",
    "    print(os.path.exists(env_path), os.path.exists(bee_path), env_path)\n",
    "else: \n",
    "    base_exp_dir = \"./\"\n",
    "    env_path = os.path.join(base_exp_dir, \"envir_hist.h5\")\n",
    "    bee_path = os.path.join(base_exp_dir, \"bee_hist.h5\")\n",
    "    print(os.path.exists(env_path), os.path.exists(bee_path), env_path)\n"
   ]
  },
  {
   "cell_type": "markdown",
   "metadata": {},
   "source": [
    "- #### Concentration maps"
   ]
  },
  {
   "cell_type": "code",
   "execution_count": 179,
   "metadata": {},
   "outputs": [],
   "source": [
    "with h5py.File(env_path, 'r') as infile:\n",
    "    cmaps = np.array(infile['concentration'])"
   ]
  },
  {
   "cell_type": "code",
   "execution_count": 180,
   "metadata": {},
   "outputs": [
    {
     "data": {
      "text/plain": [
       "(1.9569013630556178e-66, 1.2599703871571193)"
      ]
     },
     "execution_count": 180,
     "metadata": {},
     "output_type": "execute_result"
    }
   ],
   "source": [
    "# Min and max concentrations for heatmap\n",
    "min_c = np.min(cmaps)\n",
    "max_c = np.max(cmaps)\n",
    "min_c, max_c"
   ]
  },
  {
   "cell_type": "markdown",
   "metadata": {},
   "source": [
    "- #### Bee measurements"
   ]
  },
  {
   "cell_type": "code",
   "execution_count": 182,
   "metadata": {},
   "outputs": [],
   "source": [
    "bee_data = {}\n",
    "with h5py.File(bee_path, 'r') as infile:\n",
    "    for key, val in infile.items():\n",
    "        bee_data[key] = np.array(val)"
   ]
  },
  {
   "cell_type": "code",
   "execution_count": 183,
   "metadata": {},
   "outputs": [],
   "source": [
    "bee_nums = np.unique(bee_data['bee_i'])\n",
    "bees = {}\n",
    "for bee_num in bee_nums:\n",
    "    idxs = np.where(bee_data['bee_i']==bee_num)\n",
    "    bee_x = bee_data['x'][idxs]\n",
    "    bee_y = bee_data['y'][idxs]\n",
    "    bee_state = bee_data['state'][idxs]\n",
    "    distance = bee_data['distance_from_queen'][idxs]\n",
    "    bee_grads = bee_data['gradient_x'][idxs], bee_data['gradient_y'][idxs]\n",
    "    bias = bee_data['wx'][idxs], bee_data['wy'][idxs]\n",
    "    bees[bee_num] = {\"x\" : bee_x, \"y\" : bee_y, \"state\": bee_state,\n",
    "                    \"distance\": distance, \"grads\" : bee_grads}"
   ]
  },
  {
   "cell_type": "markdown",
   "metadata": {},
   "source": [
    "### Make frames"
   ]
  },
  {
   "cell_type": "code",
   "execution_count": 184,
   "metadata": {},
   "outputs": [],
   "source": [
    "colors = [\"red\", \"gray\", \"#479030\", \"orange\", \"blue\"]\n",
    "color_decoder = {\n",
    "    0: colors[1],\n",
    "    1: colors[2],\n",
    "    2: colors[2],\n",
    "    3: colors[3],\n",
    "    4: colors[4]\n",
    "}"
   ]
  },
  {
   "cell_type": "code",
   "execution_count": 185,
   "metadata": {
    "scrolled": true
   },
   "outputs": [
    {
     "name": "stdout",
     "output_type": "stream",
     "text": [
      "Frame 300/300"
     ]
    }
   ],
   "source": [
    "# min_c = None\n",
    "# max_c = None\n",
    "for frame_i in range(cmaps.shape[0]):\n",
    "    sys.stdout.write(f\"\\rFrame {frame_i+1}/{cmaps.shape[0]}\")\n",
    "    sys.stdout.flush()\n",
    "    \n",
    "    # CONCENTRATION\n",
    "    cmap = cmaps[frame_i]\n",
    "    plt.imshow(cmap, cmap='viridis', vmin=min_c, vmax=max_c)\n",
    "    plt.colorbar(shrink=0.8, format='%.2f')  \n",
    "    \n",
    "    # QUEEN\n",
    "    queen = convert_xy_to_index(0)\n",
    "    plt.scatter(queen, queen, c=\"red\", s=100, edgecolors='black', marker='o')     \n",
    "    \n",
    "    # WORKERS\n",
    "    for bee_key, bee_vals in bees.items():\n",
    "        x = bee_vals['x'][frame_i]\n",
    "        y = bee_vals['y'][frame_i]\n",
    "        state = bee_vals['state'][frame_i]\n",
    "        color = color_decoder[state]\n",
    "        plt.scatter(convert_xy_to_index(x), convert_xy_to_index(y), \n",
    "                    color=color, s=30, edgecolors='black')\n",
    "        \n",
    "    # FORMATTING\n",
    "    texts = [\"Queen\", \"Random walk pre-scenting\", \"Scenting\", \"Directed walk\", \"Random walk post-scenting\"]\n",
    "    patches = [ plt.plot([],[], marker=\"o\", ms=5, ls=\"\", mec=None, color=colors[i], \n",
    "                markeredgecolor=\"black\", label=\"{:s}\".format(texts[i]) )[0]  for i in range(len(texts)) ]\n",
    "    plt.legend(handles=patches, bbox_to_anchor=(0.5, -0.22), \n",
    "               loc='center', ncol=2, numpoints=1, labelspacing=0.3,\n",
    "               fontsize='small', fancybox=\"True\",\n",
    "               handletextpad=0, columnspacing=0)\n",
    "    plt.xlabel(\"x\")\n",
    "    plt.ylabel(\"y\")\n",
    "    plt.xlim(0, 600)\n",
    "    plt.ylim(600, 0) \n",
    "\n",
    "    if ipynb_dev_config:\n",
    "        plt.title(f\"Q{QUEEN_BEE_A}_W{WORKER_BEE_A}_D{D}_T{THRESHOLD}_wb{WB}_decay{DECAY} \\n t: {frame_i+1}/{NUM_TIMESTEPS}\")\n",
    "    else:\n",
    "        num_timesteps = np.arange(script_config['t_min'], script_config['t_max']+script_config['dt'], script_config['dt']).shape[0]\n",
    "        plt.title(f\"Q{script_config['queen_initial_concentration']}_W{script_config['worker_initial_concentration']}_D{script_config['diffusion_coefficient']}_T{script_config['worker_threshold']}_wb{script_config['worker_bias_scalar']}_decay{script_config['decay']} \\n t: {frame_i+1}/{num_timesteps}\")\n",
    "          \n",
    "    # SAVING FRAMES\n",
    "    file_path = f't{frame_i+1:03d}.png'\n",
    "    filename = f'{ipynb_config.SAVE_FOLDER}/{file_path}'\n",
    "    plt.savefig(filename, bbox_inches='tight', dpi=200)\n",
    "    plt.close()"
   ]
  },
  {
   "cell_type": "markdown",
   "metadata": {},
   "source": [
    "## Video Stuff"
   ]
  },
  {
   "cell_type": "code",
   "execution_count": 187,
   "metadata": {},
   "outputs": [],
   "source": [
    "!convert -delay 25 $ipynb_config.SAVE_FOLDER/t*.png $ipynb_config.VID_PATH\n"
   ]
  },
  {
   "cell_type": "code",
   "execution_count": null,
   "metadata": {},
   "outputs": [],
   "source": [
    "VLC = \"/Applications/VLC.app/Contents/MacOS/VLC\"\n",
    "!$VLC $config.VID_PATH"
   ]
  },
  {
   "cell_type": "markdown",
   "metadata": {},
   "source": [
    "### Plot average worker distance from queen"
   ]
  },
  {
   "cell_type": "code",
   "execution_count": 170,
   "metadata": {},
   "outputs": [],
   "source": [
    "num_bees = np.unique(bee_data['bee_i']).shape[0]\n",
    "distances_per_t = bee_data['distance_from_queen'].reshape(-1, num_bees)\n",
    "median_distances = np.median(distances_per_t, axis=1)"
   ]
  },
  {
   "cell_type": "code",
   "execution_count": 172,
   "metadata": {
    "scrolled": true
   },
   "outputs": [
    {
     "data": {
      "text/plain": [
       "(0, 3)"
      ]
     },
     "execution_count": 172,
     "metadata": {},
     "output_type": "execute_result"
    },
    {
     "data": {
      "image/png": "[encoded data removed]",
      "text/plain": [
       "<matplotlib.figure.Figure at 0x130bec828>"
      ]
     },
     "metadata": {},
     "output_type": "display_data"
    }
   ],
   "source": [
    "plt.plot(median_distances)\n",
    "plt.xlabel('Time')\n",
    "plt.ylabel('Median worker distance from queen')\n",
    "plt.ylim(0, 3)"
   ]
  },
  {
   "cell_type": "code",
   "execution_count": null,
   "metadata": {},
   "outputs": [],
   "source": []
  }
 ],
 "metadata": {
  "kernelspec": {
   "display_name": "Python 3",
   "language": "python",
   "name": "python3"
  },
  "language_info": {
   "codemirror_mode": {
    "name": "ipython",
    "version": 3
   },
   "file_extension": ".py",
   "mimetype": "text/x-python",
   "name": "python",
   "nbconvert_exporter": "python",
   "pygments_lexer": "ipython3",
   "version": "3.6.4"
  }
 },
 "nbformat": 4,
 "nbformat_minor": 2
}
