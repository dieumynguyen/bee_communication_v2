{
 "cells": [
  {
   "cell_type": "markdown",
   "metadata": {},
   "source": [
    "### Imports"
   ]
  },
  {
   "cell_type": "code",
   "execution_count": 1,
   "metadata": {},
   "outputs": [],
   "source": [
    "import warnings\n",
    "warnings.filterwarnings(\"ignore\")\n",
    "\n",
    "import os\n",
    "import sys\n",
    "import numpy as np\n",
    "import glob2\n",
    "import h5py\n",
    "\n",
    "import matplotlib.pyplot as plt\n",
    "%matplotlib inline"
   ]
  },
  {
   "cell_type": "code",
   "execution_count": 2,
   "metadata": {},
   "outputs": [],
   "source": [
    "import ipynb\n",
    "import importlib"
   ]
  },
  {
   "cell_type": "code",
   "execution_count": 59,
   "metadata": {},
   "outputs": [],
   "source": [
    "import ipynb.fs.full.modules.Environment as Environment\n",
    "import ipynb.fs.full.modules.Bees as Bees\n",
    "import ipynb.fs.full.modules.Utils as Utils\n",
    "import ipynb.fs.full.modules.Config as config\n",
    "import ipynb.fs.full.modules.BeeKeeper as BeeKeeper"
   ]
  },
  {
   "cell_type": "markdown",
   "metadata": {},
   "source": [
    "# RUN"
   ]
  },
  {
   "cell_type": "code",
   "execution_count": 89,
   "metadata": {},
   "outputs": [
    {
     "data": {
      "text/plain": [
       "<module 'ipynb.fs.full.modules.BeeKeeper' (/Users/dieumynguyen/Desktop/Projects/bee_communication_v2/ipynb/modules/BeeKeeper.ipynb)>"
      ]
     },
     "execution_count": 89,
     "metadata": {},
     "output_type": "execute_result"
    }
   ],
   "source": [
    "importlib.reload(Environment)\n",
    "importlib.reload(Bees)\n",
    "importlib.reload(Utils)\n",
    "importlib.reload(config)\n",
    "importlib.reload(BeeKeeper)"
   ]
  },
  {
   "cell_type": "code",
   "execution_count": 90,
   "metadata": {},
   "outputs": [
    {
     "data": {
      "text/plain": [
       "(70, 0.01, True)"
      ]
     },
     "execution_count": 90,
     "metadata": {},
     "output_type": "execute_result"
    }
   ],
   "source": [
    "config.RANDOM_SEED, config.WORKER_THRESHOLD, config.ENABLE_PROBABILISTIC"
   ]
  },
  {
   "cell_type": "code",
   "execution_count": 91,
   "metadata": {},
   "outputs": [],
   "source": [
    "def create_bees():\n",
    "    bees = []\n",
    "    for bee_i in range(config.NUM_WORKERS):\n",
    "        bee_params = config.BEE_PARAMS\n",
    "        bee_params[\"num\"] = bee_i\n",
    "        bee = Bees.Worker(bee_params)\n",
    "        bees.append(bee)\n",
    "    return bees"
   ]
  },
  {
   "cell_type": "code",
   "execution_count": 93,
   "metadata": {
    "scrolled": false
   },
   "outputs": [
    {
     "name": "stdout",
     "output_type": "stream",
     "text": [
      "Creating concentration map...\n",
      "Creating timecourse...\n",
      "Timestep: 129/300 -- Num srcs: 35\n",
      "Ending early.\n"
     ]
    }
   ],
   "source": [
    "np.random.seed(config.RANDOM_SEED)\n",
    "\n",
    "# Setup directory\n",
    "Utils.setup_directories(config.SAVE_FOLDER)\n",
    "\n",
    "# CREATE CLASS OBJECTS\n",
    "# ------------------------------------------------------------\n",
    "environment = Environment.Environment(config.ENVIRONMENT_PARAMS)\n",
    "queen_bee = Bees.Queen(config.QUEEN_PARAMS)\n",
    "bees = create_bees()\n",
    "bee_keeper = BeeKeeper.BeeKeeper(config.BEE_KEEPER_PARAMS)\n",
    "# ------------------------------------------------------------\n",
    "\n",
    "# Cleanup previous pngs\n",
    "for old_file_path in glob2.glob(f\"{config.SAVE_FOLDER}/t*.png\"):\n",
    "    os.remove(old_file_path)\n",
    "\n",
    "# ============================================================\n",
    "try:\n",
    "    for global_i, t_i in enumerate(environment):\n",
    "        num_srcs = len(environment.pheromone_sources)\n",
    "        sys.stdout.write(f\"\\rTimestep: {global_i+1}/{environment.t_grid.shape[0]} -- Num srcs: {num_srcs}\")\n",
    "        sys.stdout.flush()\n",
    "\n",
    "        # Step 1: Check for and build sources list for current timestep\n",
    "        # ----------------------------------------------------\n",
    "        # Update pheromone list from queen bee\n",
    "        environment.update_pheromone_sources(queen_bee, t_i)\n",
    "        \n",
    "        environment.cull_pheromone_sources(t_i)\n",
    "        \n",
    "        # Update pheromone list from worker bees\n",
    "        for bee_i, bee in enumerate(bees):\n",
    "            environment.update_pheromone_sources(bee, t_i)\n",
    "        # ----------------------------------------------------\n",
    "    \n",
    "#         sys.stdout.write(f\"\\rNum Srcs: {len(environment.pheromone_sources)}\")\n",
    "#         sys.stdout.flush()\n",
    "        # Step 2: Build Concentration map and get gradients\n",
    "        # ----------------------------------------------------\n",
    "        # Init concentration map for current timestep to 0's\n",
    "        # environment.init_concentration_map()\n",
    "        # Iterate through pheromone sources and build concentration maps\n",
    "        # -- for each pheromone source, calculate gradient for each bee\n",
    "        for pheromone_src in environment.pheromone_sources:\n",
    "            # Update concentration map with x, y, A, dt, etc.\n",
    "            pheromone_src_C = environment.update_concentration_map(t_i, pheromone_src)   \n",
    "            \n",
    "            # Iterate through list of active bees and calculate gradient\n",
    "            for bee in bees:\n",
    "                bee.sense_environment(t_i, environment, pheromone_src, pheromone_src_C)\n",
    "        # ----------------------------------------------------\n",
    "\n",
    "        # Step 3: Update bees & environment\n",
    "        # ----------------------------------------------------\n",
    "        queen_bee.update()\n",
    "\n",
    "        for bee_i, bee in enumerate(bees):\n",
    "            bee.update()\n",
    "            \n",
    "            # Measure and store bee info\n",
    "            bee_keeper.measure_bees(bee, queen_bee, global_i)\n",
    "\n",
    "        # Store concentration maps\n",
    "        bee_keeper.measure_environment(environment)\n",
    "        # ----------------------------------------------------\n",
    "\n",
    "        # Take steps (update movement, clear grads, etc)\n",
    "        queen_bee.step()\n",
    "        for bee in bees:\n",
    "            bee.step(environment)\n",
    "    \n",
    "    bee_keeper.log_data_to_handy_dandy_notebook()\n",
    "    \n",
    "except KeyboardInterrupt:\n",
    "    print(\"\\nEnding early.\")\n",
    "    bee_keeper.log_data_to_handy_dandy_notebook()\n",
    "    "
   ]
  },
  {
   "cell_type": "code",
   "execution_count": 76,
   "metadata": {},
   "outputs": [
    {
     "data": {
      "text/plain": [
       "Text(0,0.5,'Concentration')"
      ]
     },
     "execution_count": 76,
     "metadata": {},
     "output_type": "execute_result"
    },
    {
     "data": {
      "image/png": "[encoded data removed]",
      "text/plain": [
       "<matplotlib.figure.Figure at 0x11d141fd0>"
      ]
     },
     "metadata": {},
     "output_type": "display_data"
    }
   ],
   "source": [
    "def diffusion_eq(A, D, x, x_source, y, y_source, wb, wx, wy, t, decay_rate):\n",
    "    term_1 = A / np.sqrt(t)\n",
    "    dx = x - x_source\n",
    "    dy = y - y_source\n",
    "\n",
    "    term_2 = (dx - wb*wx * t)**2 + (dy - wb*wy * t)**2\n",
    "    denom = ((4 * D * t)) \n",
    "    c = term_1 * (np.exp(-(term_2 / denom) - (decay_rate * t)))\n",
    "    return c \n",
    "\n",
    "A = 0.15\n",
    "D = 0.6\n",
    "x, y = 0.0, 0.0\n",
    "x_source, y_source = 0, 0\n",
    "wb = 0\n",
    "wx, wy = 0, 0 \n",
    "t_array = np.arange(0.01, 1, 0.05)\n",
    "decay_rate = np.arange(0.0, 19.0, 2)\n",
    "\n",
    "for decay in decay_rate:\n",
    "    C = []\n",
    "    for t in t_array:\n",
    "        c = diffusion_eq(A, D, x, x_source, y, y_source, wb, wx, wy, t, decay_rate=decay)\n",
    "        C.append(c)\n",
    "    plt.plot(t_array, C, label=str(decay))\n",
    "plt.legend(loc='upper right', title=\"decay rates\")\n",
    "plt.title(\"Concentration vs Decay - Queen's location (300, 300)\")\n",
    "# plt.title(\"Concentration vs Decay - Queen's vicinity (340, 340)\")\n",
    "plt.xlabel(\"Time\")\n",
    "plt.ylabel(\"Concentration\")"
   ]
  },
  {
   "cell_type": "code",
   "execution_count": null,
   "metadata": {},
   "outputs": [],
   "source": []
  }
 ],
 "metadata": {
  "kernelspec": {
   "display_name": "Python 3",
   "language": "python",
   "name": "python3"
  },
  "language_info": {
   "codemirror_mode": {
    "name": "ipython",
    "version": 3
   },
   "file_extension": ".py",
   "mimetype": "text/x-python",
   "name": "python",
   "nbconvert_exporter": "python",
   "pygments_lexer": "ipython3",
   "version": "3.6.4"
  }
 },
 "nbformat": 4,
 "nbformat_minor": 2
}
