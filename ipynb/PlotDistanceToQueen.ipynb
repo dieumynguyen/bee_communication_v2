{
 "cells": [
  {
   "cell_type": "code",
   "execution_count": 1,
   "metadata": {},
   "outputs": [
    {
     "name": "stderr",
     "output_type": "stream",
     "text": [
      "/Users/dieumynguyen/anaconda3/lib/python3.6/site-packages/h5py/__init__.py:36: FutureWarning: Conversion of the second argument of issubdtype from `float` to `np.floating` is deprecated. In future, it will be treated as `np.float64 == np.dtype(float).type`.\n",
      "  from ._conv import register_converters as _register_converters\n"
     ]
    }
   ],
   "source": [
    "import h5py\n",
    "import numpy as np\n",
    "import glob2\n",
    "import os\n",
    "import itertools\n",
    "import matplotlib.pyplot as plt\n",
    "import seaborn as sns\n",
    "import json\n",
    "import pandas as pd\n",
    "\n",
    "sns.set(style=\"ticks\")"
   ]
  },
  {
   "cell_type": "code",
   "execution_count": 2,
   "metadata": {},
   "outputs": [],
   "source": [
    "# All params\n",
    "Q_list = [0.15]\n",
    "W_list = [0.15]\n",
    "D_list = [0.6]\n",
    "T_list = [0.00001, 0.0001, 0.001, 0.01, 0.025, 0.05, 0.075, 0.1, 0.25, 0.5, 0.75, 1.0]\n",
    "wb_list = [0.0]\n",
    "decay_list = [18.0]\n",
    "\n",
    "seed_list = list(np.arange(0, 25))"
   ]
  },
  {
   "cell_type": "markdown",
   "metadata": {},
   "source": [
    "## Plot distance"
   ]
  },
  {
   "cell_type": "code",
   "execution_count": 3,
   "metadata": {},
   "outputs": [],
   "source": [
    "plotting_mean = True"
   ]
  },
  {
   "cell_type": "code",
   "execution_count": 4,
   "metadata": {
    "scrolled": true
   },
   "outputs": [
    {
     "data": {
      "text/plain": [
       "('140',\n",
       " 'distance_data/wb=5/distance_data_n=140',\n",
       " 'distance_data/wb=5/distance_vs_threshold_n=140')"
      ]
     },
     "execution_count": 4,
     "metadata": {},
     "output_type": "execute_result"
    }
   ],
   "source": [
    "density = 140\n",
    "filename = f\"distance_data/wb=5/distance_data_n={density}.json\"\n",
    "savename = f\"distance_data/wb=5/distance_data_n={density}\"\n",
    "savename2 = f\"distance_data/wb=5/distance_vs_threshold_n={density}\"\n",
    "density, savename, savename2"
   ]
  },
  {
   "cell_type": "code",
   "execution_count": 6,
   "metadata": {},
   "outputs": [],
   "source": [
    "if plotting_mean:\n",
    "    with open(filename) as f:\n",
    "        distance_data = json.load(f)\n",
    "else:\n",
    "    with open(filename) as f:\n",
    "        distance_data = json.load(f)"
   ]
  },
  {
   "cell_type": "code",
   "execution_count": 22,
   "metadata": {},
   "outputs": [
    {
     "data": {
      "text/plain": [
       "(25, 8000)"
      ]
     },
     "execution_count": 22,
     "metadata": {},
     "output_type": "execute_result"
    }
   ],
   "source": [
    "X = []\n",
    "for key, val in distance_data[\"Q0.15_W0.15_D0.6_T0.00001_wb5.0_decay18.0\"].items():\n",
    "    X.append(val)\n",
    "X = np.array(X)\n",
    "X.shape"
   ]
  },
  {
   "cell_type": "code",
   "execution_count": 26,
   "metadata": {},
   "outputs": [],
   "source": [
    "import pandas as pd\n",
    "import seaborn as sns"
   ]
  },
  {
   "cell_type": "code",
   "execution_count": 24,
   "metadata": {},
   "outputs": [],
   "source": [
    "df = pd.DataFrame(X)"
   ]
  },
  {
   "cell_type": "code",
   "execution_count": 25,
   "metadata": {},
   "outputs": [
    {
     "data": {
      "text/html": [
       "<div>\n",
       "<style scoped>\n",
       "    .dataframe tbody tr th:only-of-type {\n",
       "        vertical-align: middle;\n",
       "    }\n",
       "\n",
       "    .dataframe tbody tr th {\n",
       "        vertical-align: top;\n",
       "    }\n",
       "\n",
       "    .dataframe thead th {\n",
       "        text-align: right;\n",
       "    }\n",
       "</style>\n",
       "<table border=\"1\" class=\"dataframe\">\n",
       "  <thead>\n",
       "    <tr style=\"text-align: right;\">\n",
       "      <th></th>\n",
       "      <th>0</th>\n",
       "      <th>1</th>\n",
       "      <th>2</th>\n",
       "      <th>3</th>\n",
       "      <th>4</th>\n",
       "      <th>5</th>\n",
       "      <th>6</th>\n",
       "      <th>7</th>\n",
       "      <th>8</th>\n",
       "      <th>9</th>\n",
       "      <th>...</th>\n",
       "      <th>7990</th>\n",
       "      <th>7991</th>\n",
       "      <th>7992</th>\n",
       "      <th>7993</th>\n",
       "      <th>7994</th>\n",
       "      <th>7995</th>\n",
       "      <th>7996</th>\n",
       "      <th>7997</th>\n",
       "      <th>7998</th>\n",
       "      <th>7999</th>\n",
       "    </tr>\n",
       "  </thead>\n",
       "  <tbody>\n",
       "    <tr>\n",
       "      <th>0</th>\n",
       "      <td>1.834711</td>\n",
       "      <td>1.829674</td>\n",
       "      <td>1.825643</td>\n",
       "      <td>1.820060</td>\n",
       "      <td>1.810398</td>\n",
       "      <td>1.802700</td>\n",
       "      <td>1.802004</td>\n",
       "      <td>1.801423</td>\n",
       "      <td>1.801601</td>\n",
       "      <td>1.803624</td>\n",
       "      <td>...</td>\n",
       "      <td>0.970012</td>\n",
       "      <td>0.977152</td>\n",
       "      <td>0.966050</td>\n",
       "      <td>0.978097</td>\n",
       "      <td>0.965791</td>\n",
       "      <td>0.978252</td>\n",
       "      <td>0.967227</td>\n",
       "      <td>0.982401</td>\n",
       "      <td>0.971485</td>\n",
       "      <td>0.977542</td>\n",
       "    </tr>\n",
       "    <tr>\n",
       "      <th>1</th>\n",
       "      <td>1.919214</td>\n",
       "      <td>1.912691</td>\n",
       "      <td>1.906983</td>\n",
       "      <td>1.897028</td>\n",
       "      <td>1.888609</td>\n",
       "      <td>1.882722</td>\n",
       "      <td>1.880480</td>\n",
       "      <td>1.880045</td>\n",
       "      <td>1.879780</td>\n",
       "      <td>1.879693</td>\n",
       "      <td>...</td>\n",
       "      <td>1.427817</td>\n",
       "      <td>1.434662</td>\n",
       "      <td>1.429100</td>\n",
       "      <td>1.434447</td>\n",
       "      <td>1.429973</td>\n",
       "      <td>1.434959</td>\n",
       "      <td>1.429414</td>\n",
       "      <td>1.437526</td>\n",
       "      <td>1.427558</td>\n",
       "      <td>1.437526</td>\n",
       "    </tr>\n",
       "    <tr>\n",
       "      <th>2</th>\n",
       "      <td>1.771671</td>\n",
       "      <td>1.770275</td>\n",
       "      <td>1.762973</td>\n",
       "      <td>1.753443</td>\n",
       "      <td>1.745527</td>\n",
       "      <td>1.743294</td>\n",
       "      <td>1.742740</td>\n",
       "      <td>1.742357</td>\n",
       "      <td>1.742996</td>\n",
       "      <td>1.741177</td>\n",
       "      <td>...</td>\n",
       "      <td>0.482325</td>\n",
       "      <td>0.489142</td>\n",
       "      <td>0.484839</td>\n",
       "      <td>0.489931</td>\n",
       "      <td>0.480968</td>\n",
       "      <td>0.490626</td>\n",
       "      <td>0.477139</td>\n",
       "      <td>0.491430</td>\n",
       "      <td>0.478804</td>\n",
       "      <td>0.487951</td>\n",
       "    </tr>\n",
       "    <tr>\n",
       "      <th>3</th>\n",
       "      <td>1.802929</td>\n",
       "      <td>1.797099</td>\n",
       "      <td>1.793004</td>\n",
       "      <td>1.785390</td>\n",
       "      <td>1.775229</td>\n",
       "      <td>1.768763</td>\n",
       "      <td>1.767039</td>\n",
       "      <td>1.764510</td>\n",
       "      <td>1.765344</td>\n",
       "      <td>1.768298</td>\n",
       "      <td>...</td>\n",
       "      <td>1.284820</td>\n",
       "      <td>1.277871</td>\n",
       "      <td>1.284582</td>\n",
       "      <td>1.279852</td>\n",
       "      <td>1.287260</td>\n",
       "      <td>1.277624</td>\n",
       "      <td>1.285314</td>\n",
       "      <td>1.278254</td>\n",
       "      <td>1.286636</td>\n",
       "      <td>1.280495</td>\n",
       "    </tr>\n",
       "    <tr>\n",
       "      <th>4</th>\n",
       "      <td>1.856775</td>\n",
       "      <td>1.852684</td>\n",
       "      <td>1.849051</td>\n",
       "      <td>1.838429</td>\n",
       "      <td>1.832122</td>\n",
       "      <td>1.826653</td>\n",
       "      <td>1.826038</td>\n",
       "      <td>1.826291</td>\n",
       "      <td>1.825505</td>\n",
       "      <td>1.828441</td>\n",
       "      <td>...</td>\n",
       "      <td>0.281982</td>\n",
       "      <td>0.293053</td>\n",
       "      <td>0.281982</td>\n",
       "      <td>0.294839</td>\n",
       "      <td>0.282696</td>\n",
       "      <td>0.291625</td>\n",
       "      <td>0.279839</td>\n",
       "      <td>0.292696</td>\n",
       "      <td>0.278768</td>\n",
       "      <td>0.291982</td>\n",
       "    </tr>\n",
       "    <tr>\n",
       "      <th>5</th>\n",
       "      <td>1.852521</td>\n",
       "      <td>1.849696</td>\n",
       "      <td>1.843215</td>\n",
       "      <td>1.835612</td>\n",
       "      <td>1.827454</td>\n",
       "      <td>1.823363</td>\n",
       "      <td>1.823358</td>\n",
       "      <td>1.822412</td>\n",
       "      <td>1.822003</td>\n",
       "      <td>1.817488</td>\n",
       "      <td>...</td>\n",
       "      <td>0.894601</td>\n",
       "      <td>0.888958</td>\n",
       "      <td>0.894713</td>\n",
       "      <td>0.889385</td>\n",
       "      <td>0.896262</td>\n",
       "      <td>0.891036</td>\n",
       "      <td>0.893770</td>\n",
       "      <td>0.890165</td>\n",
       "      <td>0.889929</td>\n",
       "      <td>0.892223</td>\n",
       "    </tr>\n",
       "    <tr>\n",
       "      <th>6</th>\n",
       "      <td>1.840150</td>\n",
       "      <td>1.841378</td>\n",
       "      <td>1.833549</td>\n",
       "      <td>1.823594</td>\n",
       "      <td>1.811797</td>\n",
       "      <td>1.808105</td>\n",
       "      <td>1.807731</td>\n",
       "      <td>1.807637</td>\n",
       "      <td>1.810639</td>\n",
       "      <td>1.815171</td>\n",
       "      <td>...</td>\n",
       "      <td>0.409684</td>\n",
       "      <td>0.408640</td>\n",
       "      <td>0.411087</td>\n",
       "      <td>0.410149</td>\n",
       "      <td>0.408697</td>\n",
       "      <td>0.412572</td>\n",
       "      <td>0.406442</td>\n",
       "      <td>0.412847</td>\n",
       "      <td>0.406056</td>\n",
       "      <td>0.410148</td>\n",
       "    </tr>\n",
       "    <tr>\n",
       "      <th>7</th>\n",
       "      <td>1.832285</td>\n",
       "      <td>1.828857</td>\n",
       "      <td>1.823451</td>\n",
       "      <td>1.816756</td>\n",
       "      <td>1.806384</td>\n",
       "      <td>1.802286</td>\n",
       "      <td>1.801240</td>\n",
       "      <td>1.799889</td>\n",
       "      <td>1.802940</td>\n",
       "      <td>1.805412</td>\n",
       "      <td>...</td>\n",
       "      <td>1.339439</td>\n",
       "      <td>1.337088</td>\n",
       "      <td>1.338390</td>\n",
       "      <td>1.338919</td>\n",
       "      <td>1.337326</td>\n",
       "      <td>1.340499</td>\n",
       "      <td>1.336290</td>\n",
       "      <td>1.340231</td>\n",
       "      <td>1.334957</td>\n",
       "      <td>1.337165</td>\n",
       "    </tr>\n",
       "    <tr>\n",
       "      <th>8</th>\n",
       "      <td>1.755878</td>\n",
       "      <td>1.753280</td>\n",
       "      <td>1.748007</td>\n",
       "      <td>1.741818</td>\n",
       "      <td>1.732627</td>\n",
       "      <td>1.729725</td>\n",
       "      <td>1.729938</td>\n",
       "      <td>1.728457</td>\n",
       "      <td>1.727295</td>\n",
       "      <td>1.726170</td>\n",
       "      <td>...</td>\n",
       "      <td>0.035119</td>\n",
       "      <td>0.043435</td>\n",
       "      <td>0.031878</td>\n",
       "      <td>0.044954</td>\n",
       "      <td>0.032194</td>\n",
       "      <td>0.044434</td>\n",
       "      <td>0.032038</td>\n",
       "      <td>0.042416</td>\n",
       "      <td>0.034216</td>\n",
       "      <td>0.041164</td>\n",
       "    </tr>\n",
       "    <tr>\n",
       "      <th>9</th>\n",
       "      <td>1.823219</td>\n",
       "      <td>1.816730</td>\n",
       "      <td>1.814909</td>\n",
       "      <td>1.808579</td>\n",
       "      <td>1.799315</td>\n",
       "      <td>1.793483</td>\n",
       "      <td>1.794480</td>\n",
       "      <td>1.793733</td>\n",
       "      <td>1.794644</td>\n",
       "      <td>1.798130</td>\n",
       "      <td>...</td>\n",
       "      <td>0.798422</td>\n",
       "      <td>0.807059</td>\n",
       "      <td>0.799043</td>\n",
       "      <td>0.805548</td>\n",
       "      <td>0.795722</td>\n",
       "      <td>0.806828</td>\n",
       "      <td>0.795820</td>\n",
       "      <td>0.807645</td>\n",
       "      <td>0.799628</td>\n",
       "      <td>0.808679</td>\n",
       "    </tr>\n",
       "    <tr>\n",
       "      <th>10</th>\n",
       "      <td>1.806377</td>\n",
       "      <td>1.800029</td>\n",
       "      <td>1.795595</td>\n",
       "      <td>1.782011</td>\n",
       "      <td>1.769655</td>\n",
       "      <td>1.766416</td>\n",
       "      <td>1.768188</td>\n",
       "      <td>1.769489</td>\n",
       "      <td>1.771395</td>\n",
       "      <td>1.770209</td>\n",
       "      <td>...</td>\n",
       "      <td>0.946355</td>\n",
       "      <td>0.955701</td>\n",
       "      <td>0.946054</td>\n",
       "      <td>0.954895</td>\n",
       "      <td>0.942855</td>\n",
       "      <td>0.954818</td>\n",
       "      <td>0.943664</td>\n",
       "      <td>0.955990</td>\n",
       "      <td>0.943019</td>\n",
       "      <td>0.955018</td>\n",
       "    </tr>\n",
       "    <tr>\n",
       "      <th>11</th>\n",
       "      <td>1.799466</td>\n",
       "      <td>1.801325</td>\n",
       "      <td>1.797334</td>\n",
       "      <td>1.790487</td>\n",
       "      <td>1.778369</td>\n",
       "      <td>1.773148</td>\n",
       "      <td>1.773510</td>\n",
       "      <td>1.770887</td>\n",
       "      <td>1.772003</td>\n",
       "      <td>1.770361</td>\n",
       "      <td>...</td>\n",
       "      <td>0.356558</td>\n",
       "      <td>0.368344</td>\n",
       "      <td>0.353701</td>\n",
       "      <td>0.366558</td>\n",
       "      <td>0.355130</td>\n",
       "      <td>0.366915</td>\n",
       "      <td>0.356201</td>\n",
       "      <td>0.368701</td>\n",
       "      <td>0.356558</td>\n",
       "      <td>0.369415</td>\n",
       "    </tr>\n",
       "    <tr>\n",
       "      <th>12</th>\n",
       "      <td>1.814299</td>\n",
       "      <td>1.805969</td>\n",
       "      <td>1.799871</td>\n",
       "      <td>1.790467</td>\n",
       "      <td>1.778263</td>\n",
       "      <td>1.774341</td>\n",
       "      <td>1.774099</td>\n",
       "      <td>1.774397</td>\n",
       "      <td>1.778230</td>\n",
       "      <td>1.777859</td>\n",
       "      <td>...</td>\n",
       "      <td>0.436351</td>\n",
       "      <td>0.442315</td>\n",
       "      <td>0.432870</td>\n",
       "      <td>0.446028</td>\n",
       "      <td>0.431669</td>\n",
       "      <td>0.440005</td>\n",
       "      <td>0.431182</td>\n",
       "      <td>0.442186</td>\n",
       "      <td>0.434125</td>\n",
       "      <td>0.443794</td>\n",
       "    </tr>\n",
       "    <tr>\n",
       "      <th>13</th>\n",
       "      <td>1.983757</td>\n",
       "      <td>1.979323</td>\n",
       "      <td>1.980913</td>\n",
       "      <td>1.973641</td>\n",
       "      <td>1.962163</td>\n",
       "      <td>1.956157</td>\n",
       "      <td>1.957291</td>\n",
       "      <td>1.958058</td>\n",
       "      <td>1.959830</td>\n",
       "      <td>1.959866</td>\n",
       "      <td>...</td>\n",
       "      <td>1.718783</td>\n",
       "      <td>1.721612</td>\n",
       "      <td>1.717840</td>\n",
       "      <td>1.723170</td>\n",
       "      <td>1.717651</td>\n",
       "      <td>1.720319</td>\n",
       "      <td>1.712233</td>\n",
       "      <td>1.718281</td>\n",
       "      <td>1.713149</td>\n",
       "      <td>1.715451</td>\n",
       "    </tr>\n",
       "    <tr>\n",
       "      <th>14</th>\n",
       "      <td>1.733747</td>\n",
       "      <td>1.729690</td>\n",
       "      <td>1.726183</td>\n",
       "      <td>1.722437</td>\n",
       "      <td>1.711821</td>\n",
       "      <td>1.708575</td>\n",
       "      <td>1.709707</td>\n",
       "      <td>1.708176</td>\n",
       "      <td>1.709018</td>\n",
       "      <td>1.706571</td>\n",
       "      <td>...</td>\n",
       "      <td>0.970974</td>\n",
       "      <td>0.979797</td>\n",
       "      <td>0.971575</td>\n",
       "      <td>0.980139</td>\n",
       "      <td>0.973609</td>\n",
       "      <td>0.981026</td>\n",
       "      <td>0.971937</td>\n",
       "      <td>0.979022</td>\n",
       "      <td>0.969944</td>\n",
       "      <td>0.979293</td>\n",
       "    </tr>\n",
       "    <tr>\n",
       "      <th>15</th>\n",
       "      <td>1.868455</td>\n",
       "      <td>1.865000</td>\n",
       "      <td>1.862130</td>\n",
       "      <td>1.858408</td>\n",
       "      <td>1.852638</td>\n",
       "      <td>1.847194</td>\n",
       "      <td>1.847092</td>\n",
       "      <td>1.846151</td>\n",
       "      <td>1.845686</td>\n",
       "      <td>1.847523</td>\n",
       "      <td>...</td>\n",
       "      <td>1.439106</td>\n",
       "      <td>1.444743</td>\n",
       "      <td>1.443443</td>\n",
       "      <td>1.447878</td>\n",
       "      <td>1.449940</td>\n",
       "      <td>1.450627</td>\n",
       "      <td>1.450325</td>\n",
       "      <td>1.448296</td>\n",
       "      <td>1.447227</td>\n",
       "      <td>1.445497</td>\n",
       "    </tr>\n",
       "    <tr>\n",
       "      <th>16</th>\n",
       "      <td>1.853736</td>\n",
       "      <td>1.852625</td>\n",
       "      <td>1.850804</td>\n",
       "      <td>1.841744</td>\n",
       "      <td>1.836681</td>\n",
       "      <td>1.831784</td>\n",
       "      <td>1.830563</td>\n",
       "      <td>1.831811</td>\n",
       "      <td>1.831307</td>\n",
       "      <td>1.833004</td>\n",
       "      <td>...</td>\n",
       "      <td>1.675459</td>\n",
       "      <td>1.666805</td>\n",
       "      <td>1.673611</td>\n",
       "      <td>1.666772</td>\n",
       "      <td>1.672534</td>\n",
       "      <td>1.666320</td>\n",
       "      <td>1.675909</td>\n",
       "      <td>1.668555</td>\n",
       "      <td>1.675433</td>\n",
       "      <td>1.666585</td>\n",
       "    </tr>\n",
       "    <tr>\n",
       "      <th>17</th>\n",
       "      <td>1.831454</td>\n",
       "      <td>1.826605</td>\n",
       "      <td>1.822890</td>\n",
       "      <td>1.816162</td>\n",
       "      <td>1.805617</td>\n",
       "      <td>1.801966</td>\n",
       "      <td>1.802841</td>\n",
       "      <td>1.802524</td>\n",
       "      <td>1.804835</td>\n",
       "      <td>1.810923</td>\n",
       "      <td>...</td>\n",
       "      <td>0.567308</td>\n",
       "      <td>0.579228</td>\n",
       "      <td>0.567888</td>\n",
       "      <td>0.576956</td>\n",
       "      <td>0.565755</td>\n",
       "      <td>0.579171</td>\n",
       "      <td>0.566736</td>\n",
       "      <td>0.574799</td>\n",
       "      <td>0.563387</td>\n",
       "      <td>0.578030</td>\n",
       "    </tr>\n",
       "    <tr>\n",
       "      <th>18</th>\n",
       "      <td>1.845333</td>\n",
       "      <td>1.844621</td>\n",
       "      <td>1.839754</td>\n",
       "      <td>1.825474</td>\n",
       "      <td>1.814864</td>\n",
       "      <td>1.811848</td>\n",
       "      <td>1.810951</td>\n",
       "      <td>1.809223</td>\n",
       "      <td>1.809073</td>\n",
       "      <td>1.814313</td>\n",
       "      <td>...</td>\n",
       "      <td>1.182440</td>\n",
       "      <td>1.171420</td>\n",
       "      <td>1.179211</td>\n",
       "      <td>1.171300</td>\n",
       "      <td>1.180070</td>\n",
       "      <td>1.171387</td>\n",
       "      <td>1.180008</td>\n",
       "      <td>1.171582</td>\n",
       "      <td>1.182472</td>\n",
       "      <td>1.171666</td>\n",
       "    </tr>\n",
       "    <tr>\n",
       "      <th>19</th>\n",
       "      <td>1.857989</td>\n",
       "      <td>1.856681</td>\n",
       "      <td>1.854438</td>\n",
       "      <td>1.839538</td>\n",
       "      <td>1.830671</td>\n",
       "      <td>1.829207</td>\n",
       "      <td>1.828416</td>\n",
       "      <td>1.827536</td>\n",
       "      <td>1.831351</td>\n",
       "      <td>1.832471</td>\n",
       "      <td>...</td>\n",
       "      <td>1.331821</td>\n",
       "      <td>1.337622</td>\n",
       "      <td>1.330205</td>\n",
       "      <td>1.331999</td>\n",
       "      <td>1.329813</td>\n",
       "      <td>1.332327</td>\n",
       "      <td>1.331173</td>\n",
       "      <td>1.335964</td>\n",
       "      <td>1.333528</td>\n",
       "      <td>1.339317</td>\n",
       "    </tr>\n",
       "    <tr>\n",
       "      <th>20</th>\n",
       "      <td>1.773511</td>\n",
       "      <td>1.767710</td>\n",
       "      <td>1.762865</td>\n",
       "      <td>1.756594</td>\n",
       "      <td>1.747362</td>\n",
       "      <td>1.745288</td>\n",
       "      <td>1.744830</td>\n",
       "      <td>1.743064</td>\n",
       "      <td>1.746202</td>\n",
       "      <td>1.752476</td>\n",
       "      <td>...</td>\n",
       "      <td>0.482681</td>\n",
       "      <td>0.496966</td>\n",
       "      <td>0.484823</td>\n",
       "      <td>0.495181</td>\n",
       "      <td>0.485538</td>\n",
       "      <td>0.496252</td>\n",
       "      <td>0.481609</td>\n",
       "      <td>0.495538</td>\n",
       "      <td>0.481966</td>\n",
       "      <td>0.494109</td>\n",
       "    </tr>\n",
       "    <tr>\n",
       "      <th>21</th>\n",
       "      <td>1.856432</td>\n",
       "      <td>1.853530</td>\n",
       "      <td>1.848232</td>\n",
       "      <td>1.843027</td>\n",
       "      <td>1.833670</td>\n",
       "      <td>1.828074</td>\n",
       "      <td>1.826820</td>\n",
       "      <td>1.826267</td>\n",
       "      <td>1.823620</td>\n",
       "      <td>1.824088</td>\n",
       "      <td>...</td>\n",
       "      <td>0.826659</td>\n",
       "      <td>0.832843</td>\n",
       "      <td>0.823449</td>\n",
       "      <td>0.831724</td>\n",
       "      <td>0.824471</td>\n",
       "      <td>0.834188</td>\n",
       "      <td>0.825581</td>\n",
       "      <td>0.832731</td>\n",
       "      <td>0.823681</td>\n",
       "      <td>0.833764</td>\n",
       "    </tr>\n",
       "    <tr>\n",
       "      <th>22</th>\n",
       "      <td>1.820160</td>\n",
       "      <td>1.814268</td>\n",
       "      <td>1.810048</td>\n",
       "      <td>1.804236</td>\n",
       "      <td>1.798022</td>\n",
       "      <td>1.791000</td>\n",
       "      <td>1.788215</td>\n",
       "      <td>1.787318</td>\n",
       "      <td>1.789479</td>\n",
       "      <td>1.787541</td>\n",
       "      <td>...</td>\n",
       "      <td>0.669967</td>\n",
       "      <td>0.672428</td>\n",
       "      <td>0.671871</td>\n",
       "      <td>0.673235</td>\n",
       "      <td>0.671811</td>\n",
       "      <td>0.673578</td>\n",
       "      <td>0.670193</td>\n",
       "      <td>0.670837</td>\n",
       "      <td>0.669845</td>\n",
       "      <td>0.669892</td>\n",
       "    </tr>\n",
       "    <tr>\n",
       "      <th>23</th>\n",
       "      <td>1.837108</td>\n",
       "      <td>1.830207</td>\n",
       "      <td>1.830300</td>\n",
       "      <td>1.823065</td>\n",
       "      <td>1.814780</td>\n",
       "      <td>1.809968</td>\n",
       "      <td>1.809056</td>\n",
       "      <td>1.807554</td>\n",
       "      <td>1.809345</td>\n",
       "      <td>1.811983</td>\n",
       "      <td>...</td>\n",
       "      <td>0.628779</td>\n",
       "      <td>0.640118</td>\n",
       "      <td>0.628703</td>\n",
       "      <td>0.642632</td>\n",
       "      <td>0.629775</td>\n",
       "      <td>0.640594</td>\n",
       "      <td>0.630068</td>\n",
       "      <td>0.640795</td>\n",
       "      <td>0.631052</td>\n",
       "      <td>0.641238</td>\n",
       "    </tr>\n",
       "    <tr>\n",
       "      <th>24</th>\n",
       "      <td>1.906470</td>\n",
       "      <td>1.905128</td>\n",
       "      <td>1.901276</td>\n",
       "      <td>1.890862</td>\n",
       "      <td>1.878921</td>\n",
       "      <td>1.874698</td>\n",
       "      <td>1.873475</td>\n",
       "      <td>1.875484</td>\n",
       "      <td>1.876335</td>\n",
       "      <td>1.877546</td>\n",
       "      <td>...</td>\n",
       "      <td>1.503516</td>\n",
       "      <td>1.506756</td>\n",
       "      <td>1.502808</td>\n",
       "      <td>1.506519</td>\n",
       "      <td>1.501711</td>\n",
       "      <td>1.506666</td>\n",
       "      <td>1.499064</td>\n",
       "      <td>1.503063</td>\n",
       "      <td>1.500670</td>\n",
       "      <td>1.501576</td>\n",
       "    </tr>\n",
       "  </tbody>\n",
       "</table>\n",
       "<p>25 rows × 8000 columns</p>\n",
       "</div>"
      ],
      "text/plain": [
       "        0         1         2         3         4         5         6     \\\n",
       "0   1.834711  1.829674  1.825643  1.820060  1.810398  1.802700  1.802004   \n",
       "1   1.919214  1.912691  1.906983  1.897028  1.888609  1.882722  1.880480   \n",
       "2   1.771671  1.770275  1.762973  1.753443  1.745527  1.743294  1.742740   \n",
       "3   1.802929  1.797099  1.793004  1.785390  1.775229  1.768763  1.767039   \n",
       "4   1.856775  1.852684  1.849051  1.838429  1.832122  1.826653  1.826038   \n",
       "5   1.852521  1.849696  1.843215  1.835612  1.827454  1.823363  1.823358   \n",
       "6   1.840150  1.841378  1.833549  1.823594  1.811797  1.808105  1.807731   \n",
       "7   1.832285  1.828857  1.823451  1.816756  1.806384  1.802286  1.801240   \n",
       "8   1.755878  1.753280  1.748007  1.741818  1.732627  1.729725  1.729938   \n",
       "9   1.823219  1.816730  1.814909  1.808579  1.799315  1.793483  1.794480   \n",
       "10  1.806377  1.800029  1.795595  1.782011  1.769655  1.766416  1.768188   \n",
       "11  1.799466  1.801325  1.797334  1.790487  1.778369  1.773148  1.773510   \n",
       "12  1.814299  1.805969  1.799871  1.790467  1.778263  1.774341  1.774099   \n",
       "13  1.983757  1.979323  1.980913  1.973641  1.962163  1.956157  1.957291   \n",
       "14  1.733747  1.729690  1.726183  1.722437  1.711821  1.708575  1.709707   \n",
       "15  1.868455  1.865000  1.862130  1.858408  1.852638  1.847194  1.847092   \n",
       "16  1.853736  1.852625  1.850804  1.841744  1.836681  1.831784  1.830563   \n",
       "17  1.831454  1.826605  1.822890  1.816162  1.805617  1.801966  1.802841   \n",
       "18  1.845333  1.844621  1.839754  1.825474  1.814864  1.811848  1.810951   \n",
       "19  1.857989  1.856681  1.854438  1.839538  1.830671  1.829207  1.828416   \n",
       "20  1.773511  1.767710  1.762865  1.756594  1.747362  1.745288  1.744830   \n",
       "21  1.856432  1.853530  1.848232  1.843027  1.833670  1.828074  1.826820   \n",
       "22  1.820160  1.814268  1.810048  1.804236  1.798022  1.791000  1.788215   \n",
       "23  1.837108  1.830207  1.830300  1.823065  1.814780  1.809968  1.809056   \n",
       "24  1.906470  1.905128  1.901276  1.890862  1.878921  1.874698  1.873475   \n",
       "\n",
       "        7         8         9       ...         7990      7991      7992  \\\n",
       "0   1.801423  1.801601  1.803624    ...     0.970012  0.977152  0.966050   \n",
       "1   1.880045  1.879780  1.879693    ...     1.427817  1.434662  1.429100   \n",
       "2   1.742357  1.742996  1.741177    ...     0.482325  0.489142  0.484839   \n",
       "3   1.764510  1.765344  1.768298    ...     1.284820  1.277871  1.284582   \n",
       "4   1.826291  1.825505  1.828441    ...     0.281982  0.293053  0.281982   \n",
       "5   1.822412  1.822003  1.817488    ...     0.894601  0.888958  0.894713   \n",
       "6   1.807637  1.810639  1.815171    ...     0.409684  0.408640  0.411087   \n",
       "7   1.799889  1.802940  1.805412    ...     1.339439  1.337088  1.338390   \n",
       "8   1.728457  1.727295  1.726170    ...     0.035119  0.043435  0.031878   \n",
       "9   1.793733  1.794644  1.798130    ...     0.798422  0.807059  0.799043   \n",
       "10  1.769489  1.771395  1.770209    ...     0.946355  0.955701  0.946054   \n",
       "11  1.770887  1.772003  1.770361    ...     0.356558  0.368344  0.353701   \n",
       "12  1.774397  1.778230  1.777859    ...     0.436351  0.442315  0.432870   \n",
       "13  1.958058  1.959830  1.959866    ...     1.718783  1.721612  1.717840   \n",
       "14  1.708176  1.709018  1.706571    ...     0.970974  0.979797  0.971575   \n",
       "15  1.846151  1.845686  1.847523    ...     1.439106  1.444743  1.443443   \n",
       "16  1.831811  1.831307  1.833004    ...     1.675459  1.666805  1.673611   \n",
       "17  1.802524  1.804835  1.810923    ...     0.567308  0.579228  0.567888   \n",
       "18  1.809223  1.809073  1.814313    ...     1.182440  1.171420  1.179211   \n",
       "19  1.827536  1.831351  1.832471    ...     1.331821  1.337622  1.330205   \n",
       "20  1.743064  1.746202  1.752476    ...     0.482681  0.496966  0.484823   \n",
       "21  1.826267  1.823620  1.824088    ...     0.826659  0.832843  0.823449   \n",
       "22  1.787318  1.789479  1.787541    ...     0.669967  0.672428  0.671871   \n",
       "23  1.807554  1.809345  1.811983    ...     0.628779  0.640118  0.628703   \n",
       "24  1.875484  1.876335  1.877546    ...     1.503516  1.506756  1.502808   \n",
       "\n",
       "        7993      7994      7995      7996      7997      7998      7999  \n",
       "0   0.978097  0.965791  0.978252  0.967227  0.982401  0.971485  0.977542  \n",
       "1   1.434447  1.429973  1.434959  1.429414  1.437526  1.427558  1.437526  \n",
       "2   0.489931  0.480968  0.490626  0.477139  0.491430  0.478804  0.487951  \n",
       "3   1.279852  1.287260  1.277624  1.285314  1.278254  1.286636  1.280495  \n",
       "4   0.294839  0.282696  0.291625  0.279839  0.292696  0.278768  0.291982  \n",
       "5   0.889385  0.896262  0.891036  0.893770  0.890165  0.889929  0.892223  \n",
       "6   0.410149  0.408697  0.412572  0.406442  0.412847  0.406056  0.410148  \n",
       "7   1.338919  1.337326  1.340499  1.336290  1.340231  1.334957  1.337165  \n",
       "8   0.044954  0.032194  0.044434  0.032038  0.042416  0.034216  0.041164  \n",
       "9   0.805548  0.795722  0.806828  0.795820  0.807645  0.799628  0.808679  \n",
       "10  0.954895  0.942855  0.954818  0.943664  0.955990  0.943019  0.955018  \n",
       "11  0.366558  0.355130  0.366915  0.356201  0.368701  0.356558  0.369415  \n",
       "12  0.446028  0.431669  0.440005  0.431182  0.442186  0.434125  0.443794  \n",
       "13  1.723170  1.717651  1.720319  1.712233  1.718281  1.713149  1.715451  \n",
       "14  0.980139  0.973609  0.981026  0.971937  0.979022  0.969944  0.979293  \n",
       "15  1.447878  1.449940  1.450627  1.450325  1.448296  1.447227  1.445497  \n",
       "16  1.666772  1.672534  1.666320  1.675909  1.668555  1.675433  1.666585  \n",
       "17  0.576956  0.565755  0.579171  0.566736  0.574799  0.563387  0.578030  \n",
       "18  1.171300  1.180070  1.171387  1.180008  1.171582  1.182472  1.171666  \n",
       "19  1.331999  1.329813  1.332327  1.331173  1.335964  1.333528  1.339317  \n",
       "20  0.495181  0.485538  0.496252  0.481609  0.495538  0.481966  0.494109  \n",
       "21  0.831724  0.824471  0.834188  0.825581  0.832731  0.823681  0.833764  \n",
       "22  0.673235  0.671811  0.673578  0.670193  0.670837  0.669845  0.669892  \n",
       "23  0.642632  0.629775  0.640594  0.630068  0.640795  0.631052  0.641238  \n",
       "24  1.506519  1.501711  1.506666  1.499064  1.503063  1.500670  1.501576  \n",
       "\n",
       "[25 rows x 8000 columns]"
      ]
     },
     "execution_count": 25,
     "metadata": {},
     "output_type": "execute_result"
    }
   ],
   "source": [
    "palette = sns.color_palette(\"muted\", 9)\n",
    "sns.lineplot(x='Time', y='Distance', hue='Threshold', data=df, estimator=np.mean, palette=palette)\n",
    "plt.legend(loc=(1.05,0.25))\n"
   ]
  },
  {
   "cell_type": "code",
   "execution_count": 21,
   "metadata": {},
   "outputs": [
    {
     "data": {
      "text/plain": [
       "(8000,)"
      ]
     },
     "execution_count": 21,
     "metadata": {},
     "output_type": "execute_result"
    }
   ],
   "source": [
    "np.array(val).shape"
   ]
  },
  {
   "cell_type": "code",
   "execution_count": 18,
   "metadata": {
    "scrolled": true
   },
   "outputs": [
    {
     "data": {
      "text/plain": [
       "8000"
      ]
     },
     "execution_count": 18,
     "metadata": {},
     "output_type": "execute_result"
    }
   ],
   "source": [
    "len(distance_data[\"Q0.15_W0.15_D0.6_T0.00001_wb5.0_decay18.0\"][\"0\"])"
   ]
  },
  {
   "cell_type": "markdown",
   "metadata": {},
   "source": [
    "#### Distance for all trials"
   ]
  },
  {
   "cell_type": "code",
   "execution_count": 1,
   "metadata": {
    "scrolled": false
   },
   "outputs": [
    {
     "ename": "NameError",
     "evalue": "name 'plt' is not defined",
     "output_type": "error",
     "traceback": [
      "\u001b[0;31m---------------------------------------------------------------------------\u001b[0m",
      "\u001b[0;31mNameError\u001b[0m                                 Traceback (most recent call last)",
      "\u001b[0;32m<ipython-input-1-59f9c3cc37a2>\u001b[0m in \u001b[0;36m<module>\u001b[0;34m()\u001b[0m\n\u001b[0;32m----> 1\u001b[0;31m \u001b[0mplt\u001b[0m\u001b[0;34m.\u001b[0m\u001b[0mrcParams\u001b[0m\u001b[0;34m[\u001b[0m\u001b[0;34m\"font.family\"\u001b[0m\u001b[0;34m]\u001b[0m \u001b[0;34m=\u001b[0m \u001b[0;34m\"Arial\"\u001b[0m\u001b[0;34m\u001b[0m\u001b[0m\n\u001b[0m\u001b[1;32m      2\u001b[0m \u001b[0mfig\u001b[0m\u001b[0;34m,\u001b[0m \u001b[0maxes\u001b[0m \u001b[0;34m=\u001b[0m \u001b[0mplt\u001b[0m\u001b[0;34m.\u001b[0m\u001b[0msubplots\u001b[0m\u001b[0;34m(\u001b[0m\u001b[0;36m4\u001b[0m\u001b[0;34m,\u001b[0m \u001b[0;36m3\u001b[0m\u001b[0;34m,\u001b[0m \u001b[0msharex\u001b[0m\u001b[0;34m=\u001b[0m\u001b[0;32mTrue\u001b[0m\u001b[0;34m,\u001b[0m \u001b[0msharey\u001b[0m\u001b[0;34m=\u001b[0m\u001b[0;32mTrue\u001b[0m\u001b[0;34m,\u001b[0m \u001b[0mfigsize\u001b[0m\u001b[0;34m=\u001b[0m\u001b[0;34m(\u001b[0m\u001b[0;36m8\u001b[0m\u001b[0;34m,\u001b[0m \u001b[0;36m8\u001b[0m\u001b[0;34m)\u001b[0m\u001b[0;34m)\u001b[0m\u001b[0;34m\u001b[0m\u001b[0m\n\u001b[1;32m      3\u001b[0m \u001b[0;34m\u001b[0m\u001b[0m\n\u001b[1;32m      4\u001b[0m \u001b[0mcolors\u001b[0m \u001b[0;34m=\u001b[0m \u001b[0mplt\u001b[0m\u001b[0;34m.\u001b[0m\u001b[0mcm\u001b[0m\u001b[0;34m.\u001b[0m\u001b[0mGreen\u001b[0m\u001b[0;34m(\u001b[0m\u001b[0mnp\u001b[0m\u001b[0;34m.\u001b[0m\u001b[0mlinspace\u001b[0m\u001b[0;34m(\u001b[0m\u001b[0;36m0.2\u001b[0m\u001b[0;34m,\u001b[0m \u001b[0;36m1\u001b[0m\u001b[0;34m,\u001b[0m \u001b[0mlen\u001b[0m\u001b[0;34m(\u001b[0m\u001b[0mseed_list\u001b[0m\u001b[0;34m)\u001b[0m\u001b[0;34m)\u001b[0m\u001b[0;34m)\u001b[0m\u001b[0;34m\u001b[0m\u001b[0m\n\u001b[1;32m      5\u001b[0m \u001b[0;31m# colors = plt.cm.tab20(np.linspace(0.2, 1, len(seed_list)))\u001b[0m\u001b[0;34m\u001b[0m\u001b[0;34m\u001b[0m\u001b[0m\n",
      "\u001b[0;31mNameError\u001b[0m: name 'plt' is not defined"
     ]
    }
   ],
   "source": [
    "plt.rcParams[\"font.family\"] = \"Arial\"\n",
    "fig, axes = plt.subplots(4, 3, sharex=True, sharey=True, figsize=(8, 8))\n",
    "\n",
    "colors = plt.cm.Green(np.linspace(0.2, 1, len(seed_list)))\n",
    "# colors = plt.cm.tab20(np.linspace(0.2, 1, len(seed_list)))\n",
    "\n",
    "axes = axes.flatten()\n",
    "for data_i, (ax, data) in enumerate(zip(axes, distance_data)):\n",
    "    for trial_i, trials in enumerate(distance_data[data]):\n",
    "        trials_list = distance_data[data][trials]\n",
    "        \n",
    "        ax.plot(trials_list, label=f\"{seed_list[trial_i]}\",\n",
    "               color=colors[trial_i], linewidth=0.5) \n",
    "        ax.spines['right'].set_visible(False)\n",
    "        ax.spines['top'].set_visible(False)\n",
    "        ax.set_title(f\"T={T_list[data_i]}\", fontsize=14)\n",
    "        ax.xaxis.grid(b=True, color='k', alpha=0.2, linestyle='--', linewidth=1)\n",
    "        ax.yaxis.grid(b=True, color=(0,0,0), alpha=0.2, linestyle='--', linewidth=1)\n",
    "        ax.yaxis.zorder = -1\n",
    "        plt.ylim(0, 3)\n",
    "        plt.xlim(0, len(trials_list))\n",
    "        plt.xticks(np.arange(0, len(trials_list)+1, 2000))\n",
    "\n",
    "if plotting_mean:\n",
    "    fig.suptitle(f\"Mean worker distance from queen \\n (Q={Q_list[0]}, W={W_list[0]}, D={D_list[0]}, wb={wb_list[0]}, decay={decay_list[0]}) \\n Worker density={density}\", fontsize=15)\n",
    "else:\n",
    "    fig.suptitle(f\"Median worker distance from queen \\n (Q={Q_list[0]}, W={W_list[0]}, D={D_list[0]}, wb={wb_list[0]}, decay={decay_list[0]})\", fontsize=15)\n",
    "fig.subplots_adjust(top=0.85)   \n",
    "\n",
    "# Put a legend below current axis\n",
    "box = ax.get_position()\n",
    "ax.set_position([box.x0, box.y0 + box.height * 0.1,\n",
    "                 box.width, box.height * 0.9])\n",
    "leg = ax.legend(loc='upper center', bbox_to_anchor=(-0.75, -0.5),\n",
    "          fancybox=True, shadow=False, ncol=5, title=\"Seed/Trial\")  \n",
    "for line in leg.get_lines():\n",
    "    line.set_linewidth(3)\n",
    "    \n",
    "# Add x and y labels for all\n",
    "ax = fig.add_subplot(111, frameon=False)\n",
    "ax.set_xticks([])\n",
    "ax.set_yticks([])\n",
    "ax.set_xlabel('Time', labelpad=25) \n",
    "ax.set_ylabel('Distance', labelpad=25)\n",
    "\n",
    "fig.subplots_adjust(wspace=0.25, hspace=0.5)\n",
    "\n",
    "# if plotting_mean:\n",
    "#     plt.savefig(f\"{savename}.pdf\", bbox_inches='tight')\n",
    "#     plt.savefig(f\"{savename}.png\", bbox_inches='tight')\n",
    "# else:\n",
    "#     plt.savefig(f\"{savename}.pdf\", bbox_inches='tight')\n",
    "#     plt.savefig(f\"{savename}.png\", bbox_inches='tight')"
   ]
  },
  {
   "cell_type": "markdown",
   "metadata": {},
   "source": [
    "### Avg distance for sets of params"
   ]
  },
  {
   "cell_type": "code",
   "execution_count": 11,
   "metadata": {},
   "outputs": [],
   "source": [
    "# Plot mean of distances for each set of params\n",
    "means_dict = {}\n",
    "for data_i, data in enumerate(distance_data):\n",
    "    means = []\n",
    "    for trial_i, trials in enumerate(distance_data[data]):\n",
    "        means.append(distance_data[data][trials])\n",
    "    means_array = np.mean(np.array(means), axis=0)\n",
    "\n",
    "    means_dict[data] = means_array"
   ]
  },
  {
   "cell_type": "code",
   "execution_count": 12,
   "metadata": {},
   "outputs": [
    {
     "data": {
      "image/png": "[encoded data removed]",
      "text/plain": [
       "<matplotlib.figure.Figure at 0x1a1b73be48>"
      ]
     },
     "metadata": {},
     "output_type": "display_data"
    }
   ],
   "source": [
    "means_colors = plt.cm.Paired(np.linspace(0, 1, len(means_dict)))\n",
    "\n",
    "for set_i, set_params in enumerate(means_dict):\n",
    "    plt.plot(means_dict[set_params], label=f\"{T_list[set_i]}\", color=means_colors[set_i])\n",
    "\n",
    "ax = plt.gca()\n",
    "ax.xaxis.grid(b=True, color='k', alpha=0.2, linestyle='--', linewidth=1)\n",
    "ax.yaxis.grid(b=True, color=(0,0,0), alpha=0.2, linestyle='--', linewidth=1)\n",
    "ax.spines['right'].set_visible(False)\n",
    "ax.spines['top'].set_visible(False)\n",
    "plt.ylim(0, 2.5)\n",
    "plt.xlim(0, len(trials_list))\n",
    "plt.xticks(np.arange(0, len(trials_list)+1, 2000))\n",
    "plt.xlabel('Time')\n",
    "plt.ylabel('Distance')\n",
    "plt.legend(loc=(1.05,0), title=\"Threshold\")\n",
    "\n",
    "if plotting_mean:\n",
    "    plt.title(f'Overall mean worker distance from queen \\n Worker density={density}')\n",
    "    plt.savefig(f\"{savename}_overall.pdf\", bbox_inches='tight')\n",
    "    plt.savefig(f\"{savename}_overall.png\", bbox_inches='tight')\n",
    "else:\n",
    "    plt.title('Mean of median distance from queen')\n",
    "    plt.savefig(f\"{savename}_overall.pdf\", bbox_inches='tight')\n",
    "    plt.savefig(f\"{savename}_overall.png\", bbox_inches='tight')\n",
    "\n",
    "plt.show()\n"
   ]
  },
  {
   "cell_type": "markdown",
   "metadata": {},
   "source": [
    "### Extract optimal T at various time points"
   ]
  },
  {
   "cell_type": "code",
   "execution_count": 13,
   "metadata": {},
   "outputs": [],
   "source": [
    "short_means_dict = {}\n",
    "timepoints = np.arange(-1, 8000, 1000, dtype=int)\n",
    "for key_i, (key, val) in enumerate(means_dict.items()):\n",
    "    distance_array = val[timepoints[1:]]\n",
    "    distance_array = np.insert(distance_array, 0, val[0])\n",
    "    short_means_dict[T_list[key_i]] = distance_array"
   ]
  },
  {
   "cell_type": "code",
   "execution_count": 14,
   "metadata": {},
   "outputs": [
    {
     "data": {
      "image/png": "[encoded data removed]",
      "text/plain": [
       "<matplotlib.figure.Figure at 0x102e31550>"
      ]
     },
     "metadata": {},
     "output_type": "display_data"
    }
   ],
   "source": [
    "n_colors = len(timepoints)\n",
    "colors = sns.set_palette(reversed(sns.color_palette(\"Greens_d\", n_colors)), n_colors)\n",
    "\n",
    "plt.figure(figsize=(8, 5))\n",
    "\n",
    "df = pd.DataFrame.from_dict(short_means_dict, orient='index')\n",
    "df.index.rename('Threshold', inplace=True)\n",
    "\n",
    "stacked = df.stack().reset_index()\n",
    "stacked.rename(columns={'level_1': 'Time point', 0: 'Distance'}, inplace=True)\n",
    "stacked[\"Time point\"] = stacked[\"Time point\"] * 1000\n",
    "\n",
    "sns.pointplot(data=stacked, x='Threshold', \n",
    "              y='Distance', hue='Time point', \n",
    "              join=True, palette=colors,\n",
    "              linestyles=\"-\", scale=0.7)\n",
    "plt.ylim(0, 2.5)\n",
    "plt.legend(loc=(0.8, 0.02), title=\"Time point\")\n",
    "plt.title(f\"Distance to queen vs Threshold \\n Worker density={density}\")\n",
    "ax = plt.gca()\n",
    "ax.xaxis.grid(b=True, color='k', alpha=0.2, linestyle='--', linewidth=1)\n",
    "ax.yaxis.grid(b=True, color='k', alpha=0.2, linestyle='--', linewidth=1)\n",
    "ax.spines['right'].set_visible(False)\n",
    "ax.spines['top'].set_visible(False)\n",
    "plt.savefig(f\"{savename2}.pdf\", bbox_inches='tight')\n",
    "plt.savefig(f\"{savename2}.png\", bbox_inches='tight')\n"
   ]
  },
  {
   "cell_type": "markdown",
   "metadata": {},
   "source": [
    "### Line plot with standard deviation"
   ]
  },
  {
   "cell_type": "code",
   "execution_count": 27,
   "metadata": {},
   "outputs": [
    {
     "data": {
      "text/plain": [
       "[1e-05, 0.0001, 0.001, 0.01, 0.025, 0.05, 0.075, 0.1, 0.25, 0.5, 0.75, 1.0]"
      ]
     },
     "execution_count": 27,
     "metadata": {},
     "output_type": "execute_result"
    }
   ],
   "source": [
    "T_list"
   ]
  },
  {
   "cell_type": "markdown",
   "metadata": {},
   "source": [
    "#### Build Matrix"
   ]
  },
  {
   "cell_type": "code",
   "execution_count": 51,
   "metadata": {},
   "outputs": [
    {
     "data": {
      "text/plain": [
       "(12, 25, 8000)"
      ]
     },
     "execution_count": 51,
     "metadata": {},
     "output_type": "execute_result"
    }
   ],
   "source": [
    "n_experiments = len(T_list)\n",
    "n_timesteps = 8000\n",
    "n_trials = 25\n",
    "total_matrix = np.zeros((n_experiments, n_trials, n_timesteps))\n",
    "total_matrix.shape\n",
    "\n",
    "seeds_list = []\n",
    "param_list = []\n",
    "\n",
    "for data_i, (data_key, data_val) in enumerate(distance_data.items()):\n",
    "    single_set = []\n",
    "    \n",
    "    for trial_i, (trial_key, trial_vals) in enumerate(data_val.items()):\n",
    "        single_set.append(trial_vals)\n",
    "        \n",
    "        for val in trial_vals:\n",
    "            seeds_list.append(trial_key)\n",
    "            param_list_.append(data_key)\n",
    "\n",
    "    single_set = np.array(single_set)\n",
    "    total_matrix[data_i] = single_set\n",
    "\n",
    "total_matrix.shape"
   ]
  },
  {
   "cell_type": "code",
   "execution_count": 55,
   "metadata": {},
   "outputs": [
    {
     "data": {
      "text/plain": [
       "['T__0.00001',\n",
       " 'T__0.00001',\n",
       " 'T__0.00001',\n",
       " 'T__0.00001',\n",
       " 'T__0.00001',\n",
       " 'T__0.00001',\n",
       " 'T__0.00001',\n",
       " 'T__0.00001',\n",
       " 'T__0.00001',\n",
       " 'T__0.00001',\n",
       " 'T__0.00001',\n",
       " 'T__0.00001',\n",
       " 'T__0.00001',\n",
       " 'T__0.00001',\n",
       " 'T__0.00001',\n",
       " 'T__0.00001',\n",
       " 'T__0.00001',\n",
       " 'T__0.00001',\n",
       " 'T__0.00001',\n",
       " 'T__0.00001',\n",
       " 'T__0.00001',\n",
       " 'T__0.00001',\n",
       " 'T__0.00001',\n",
       " 'T__0.00001',\n",
       " 'T__0.00001',\n",
       " 'T__0.00001']"
      ]
     },
     "execution_count": 55,
     "metadata": {},
     "output_type": "execute_result"
    }
   ],
   "source": [
    "param_list_[:26]"
   ]
  },
  {
   "cell_type": "markdown",
   "metadata": {},
   "source": [
    "#### Create DataFrame"
   ]
  },
  {
   "cell_type": "code",
   "execution_count": 30,
   "metadata": {},
   "outputs": [
    {
     "data": {
      "text/plain": [
       "(160, (12, 25, 160))"
      ]
     },
     "execution_count": 30,
     "metadata": {},
     "output_type": "execute_result"
    }
   ],
   "source": [
    "step_size = 50\n",
    "total_matrix = total_matrix[:,:,::step_size]\n",
    "seeds_list = np.array(seeds_list[::step_size])\n",
    "param_list = np.array(param_list_[::step_size])\n",
    "n_timesteps = total_matrix.shape[2]\n",
    "n_timesteps, total_matrix.shape"
   ]
  },
  {
   "cell_type": "code",
   "execution_count": 31,
   "metadata": {},
   "outputs": [
    {
     "data": {
      "text/plain": [
       "(48000,)"
      ]
     },
     "execution_count": 31,
     "metadata": {},
     "output_type": "execute_result"
    }
   ],
   "source": [
    "distance_np = total_matrix.flatten()\n",
    "distance_np.shape"
   ]
  },
  {
   "cell_type": "code",
   "execution_count": 32,
   "metadata": {},
   "outputs": [
    {
     "data": {
      "text/html": [
       "<div>\n",
       "<style scoped>\n",
       "    .dataframe tbody tr th:only-of-type {\n",
       "        vertical-align: middle;\n",
       "    }\n",
       "\n",
       "    .dataframe tbody tr th {\n",
       "        vertical-align: top;\n",
       "    }\n",
       "\n",
       "    .dataframe thead th {\n",
       "        text-align: right;\n",
       "    }\n",
       "</style>\n",
       "<table border=\"1\" class=\"dataframe\">\n",
       "  <thead>\n",
       "    <tr style=\"text-align: right;\">\n",
       "      <th></th>\n",
       "      <th>Distance</th>\n",
       "    </tr>\n",
       "  </thead>\n",
       "  <tbody>\n",
       "    <tr>\n",
       "      <th>0</th>\n",
       "      <td>1.834711</td>\n",
       "    </tr>\n",
       "    <tr>\n",
       "      <th>1</th>\n",
       "      <td>1.721678</td>\n",
       "    </tr>\n",
       "    <tr>\n",
       "      <th>2</th>\n",
       "      <td>1.647090</td>\n",
       "    </tr>\n",
       "    <tr>\n",
       "      <th>3</th>\n",
       "      <td>1.581098</td>\n",
       "    </tr>\n",
       "    <tr>\n",
       "      <th>4</th>\n",
       "      <td>1.545903</td>\n",
       "    </tr>\n",
       "  </tbody>\n",
       "</table>\n",
       "</div>"
      ],
      "text/plain": [
       "   Distance\n",
       "0  1.834711\n",
       "1  1.721678\n",
       "2  1.647090\n",
       "3  1.581098\n",
       "4  1.545903"
      ]
     },
     "execution_count": 32,
     "metadata": {},
     "output_type": "execute_result"
    }
   ],
   "source": [
    "distance_df = pd.DataFrame(data=distance_np, columns=['Distance'])\n",
    "distance_df.head()"
   ]
  },
  {
   "cell_type": "code",
   "execution_count": 33,
   "metadata": {},
   "outputs": [
    {
     "data": {
      "text/plain": [
       "(48000,)"
      ]
     },
     "execution_count": 33,
     "metadata": {},
     "output_type": "execute_result"
    }
   ],
   "source": [
    "timesteps_np = np.tile(list(range(n_timesteps)), n_trials*n_experiments)\n",
    "timesteps_np.shape"
   ]
  },
  {
   "cell_type": "code",
   "execution_count": 34,
   "metadata": {},
   "outputs": [
    {
     "data": {
      "text/html": [
       "<div>\n",
       "<style scoped>\n",
       "    .dataframe tbody tr th:only-of-type {\n",
       "        vertical-align: middle;\n",
       "    }\n",
       "\n",
       "    .dataframe tbody tr th {\n",
       "        vertical-align: top;\n",
       "    }\n",
       "\n",
       "    .dataframe thead th {\n",
       "        text-align: right;\n",
       "    }\n",
       "</style>\n",
       "<table border=\"1\" class=\"dataframe\">\n",
       "  <thead>\n",
       "    <tr style=\"text-align: right;\">\n",
       "      <th></th>\n",
       "      <th>Time</th>\n",
       "    </tr>\n",
       "  </thead>\n",
       "  <tbody>\n",
       "    <tr>\n",
       "      <th>0</th>\n",
       "      <td>0</td>\n",
       "    </tr>\n",
       "    <tr>\n",
       "      <th>1</th>\n",
       "      <td>1</td>\n",
       "    </tr>\n",
       "    <tr>\n",
       "      <th>2</th>\n",
       "      <td>2</td>\n",
       "    </tr>\n",
       "    <tr>\n",
       "      <th>3</th>\n",
       "      <td>3</td>\n",
       "    </tr>\n",
       "    <tr>\n",
       "      <th>4</th>\n",
       "      <td>4</td>\n",
       "    </tr>\n",
       "  </tbody>\n",
       "</table>\n",
       "</div>"
      ],
      "text/plain": [
       "   Time\n",
       "0     0\n",
       "1     1\n",
       "2     2\n",
       "3     3\n",
       "4     4"
      ]
     },
     "execution_count": 34,
     "metadata": {},
     "output_type": "execute_result"
    }
   ],
   "source": [
    "timesteps_df = pd.DataFrame(data=timesteps_np, columns=[\"Time\"])\n",
    "timesteps_df.head()"
   ]
  },
  {
   "cell_type": "code",
   "execution_count": 35,
   "metadata": {},
   "outputs": [],
   "source": [
    "param_list_ = [f'T__{ele.split(\"_T\")[-1].split(\"_wb\")[0]}' for ele in param_list]"
   ]
  },
  {
   "cell_type": "code",
   "execution_count": 36,
   "metadata": {},
   "outputs": [
    {
     "data": {
      "text/html": [
       "<div>\n",
       "<style scoped>\n",
       "    .dataframe tbody tr th:only-of-type {\n",
       "        vertical-align: middle;\n",
       "    }\n",
       "\n",
       "    .dataframe tbody tr th {\n",
       "        vertical-align: top;\n",
       "    }\n",
       "\n",
       "    .dataframe thead th {\n",
       "        text-align: right;\n",
       "    }\n",
       "</style>\n",
       "<table border=\"1\" class=\"dataframe\">\n",
       "  <thead>\n",
       "    <tr style=\"text-align: right;\">\n",
       "      <th></th>\n",
       "      <th>Threshold</th>\n",
       "    </tr>\n",
       "  </thead>\n",
       "  <tbody>\n",
       "    <tr>\n",
       "      <th>0</th>\n",
       "      <td>T__0.00001</td>\n",
       "    </tr>\n",
       "    <tr>\n",
       "      <th>1</th>\n",
       "      <td>T__0.00001</td>\n",
       "    </tr>\n",
       "    <tr>\n",
       "      <th>2</th>\n",
       "      <td>T__0.00001</td>\n",
       "    </tr>\n",
       "    <tr>\n",
       "      <th>3</th>\n",
       "      <td>T__0.00001</td>\n",
       "    </tr>\n",
       "    <tr>\n",
       "      <th>4</th>\n",
       "      <td>T__0.00001</td>\n",
       "    </tr>\n",
       "  </tbody>\n",
       "</table>\n",
       "</div>"
      ],
      "text/plain": [
       "    Threshold\n",
       "0  T__0.00001\n",
       "1  T__0.00001\n",
       "2  T__0.00001\n",
       "3  T__0.00001\n",
       "4  T__0.00001"
      ]
     },
     "execution_count": 36,
     "metadata": {},
     "output_type": "execute_result"
    }
   ],
   "source": [
    "params_df = pd.DataFrame(data=param_list_, columns=['Threshold'])\n",
    "params_df.head()"
   ]
  },
  {
   "cell_type": "code",
   "execution_count": 37,
   "metadata": {},
   "outputs": [
    {
     "data": {
      "text/html": [
       "<div>\n",
       "<style scoped>\n",
       "    .dataframe tbody tr th:only-of-type {\n",
       "        vertical-align: middle;\n",
       "    }\n",
       "\n",
       "    .dataframe tbody tr th {\n",
       "        vertical-align: top;\n",
       "    }\n",
       "\n",
       "    .dataframe thead th {\n",
       "        text-align: right;\n",
       "    }\n",
       "</style>\n",
       "<table border=\"1\" class=\"dataframe\">\n",
       "  <thead>\n",
       "    <tr style=\"text-align: right;\">\n",
       "      <th></th>\n",
       "      <th>Distance</th>\n",
       "      <th>Time</th>\n",
       "      <th>Threshold</th>\n",
       "    </tr>\n",
       "  </thead>\n",
       "  <tbody>\n",
       "    <tr>\n",
       "      <th>0</th>\n",
       "      <td>1.834711</td>\n",
       "      <td>0</td>\n",
       "      <td>T__0.00001</td>\n",
       "    </tr>\n",
       "    <tr>\n",
       "      <th>1</th>\n",
       "      <td>1.721678</td>\n",
       "      <td>1</td>\n",
       "      <td>T__0.00001</td>\n",
       "    </tr>\n",
       "    <tr>\n",
       "      <th>2</th>\n",
       "      <td>1.647090</td>\n",
       "      <td>2</td>\n",
       "      <td>T__0.00001</td>\n",
       "    </tr>\n",
       "    <tr>\n",
       "      <th>3</th>\n",
       "      <td>1.581098</td>\n",
       "      <td>3</td>\n",
       "      <td>T__0.00001</td>\n",
       "    </tr>\n",
       "    <tr>\n",
       "      <th>4</th>\n",
       "      <td>1.545903</td>\n",
       "      <td>4</td>\n",
       "      <td>T__0.00001</td>\n",
       "    </tr>\n",
       "  </tbody>\n",
       "</table>\n",
       "</div>"
      ],
      "text/plain": [
       "   Distance  Time   Threshold\n",
       "0  1.834711     0  T__0.00001\n",
       "1  1.721678     1  T__0.00001\n",
       "2  1.647090     2  T__0.00001\n",
       "3  1.581098     3  T__0.00001\n",
       "4  1.545903     4  T__0.00001"
      ]
     },
     "execution_count": 37,
     "metadata": {},
     "output_type": "execute_result"
    }
   ],
   "source": [
    "df = pd.concat((distance_df, timesteps_df, params_df), axis=1)\n",
    "df.head()"
   ]
  },
  {
   "cell_type": "code",
   "execution_count": 39,
   "metadata": {},
   "outputs": [
    {
     "data": {
      "text/plain": [
       "<matplotlib.legend.Legend at 0x108bfcd68>"
      ]
     },
     "execution_count": 39,
     "metadata": {},
     "output_type": "execute_result"
    },
    {
     "data": {
      "image/png": "[encoded data removed]",
      "text/plain": [
       "<matplotlib.figure.Figure at 0x108bfce48>"
      ]
     },
     "metadata": {},
     "output_type": "display_data"
    }
   ],
   "source": [
    "palette = sns.color_palette(\"muted\", 12)\n",
    "sns.lineplot(x='Time', y='Distance', hue='Threshold', data=df, estimator=np.mean, palette=palette)\n",
    "plt.legend(loc=(1.05,0.25))\n"
   ]
  },
  {
   "cell_type": "code",
   "execution_count": 58,
   "metadata": {},
   "outputs": [
    {
     "data": {
      "text/plain": [
       "(12, 25, 8000)"
      ]
     },
     "execution_count": 58,
     "metadata": {},
     "output_type": "execute_result"
    }
   ],
   "source": [
    "total_matrix.shape"
   ]
  },
  {
   "cell_type": "code",
   "execution_count": 57,
   "metadata": {},
   "outputs": [
    {
     "data": {
      "text/plain": [
       "(12, 25)"
      ]
     },
     "execution_count": 57,
     "metadata": {},
     "output_type": "execute_result"
    }
   ],
   "source": [
    "AUCs = total_matrix.sum(axis=2)\n",
    "AUCs.shape"
   ]
  },
  {
   "cell_type": "code",
   "execution_count": 65,
   "metadata": {},
   "outputs": [
    {
     "data": {
      "text/plain": [
       "array([[1.0e-05],\n",
       "       [1.0e-04],\n",
       "       [1.0e-03],\n",
       "       [1.0e-02],\n",
       "       [2.5e-02],\n",
       "       [5.0e-02],\n",
       "       [7.5e-02],\n",
       "       [1.0e-01],\n",
       "       [2.5e-01],\n",
       "       [5.0e-01],\n",
       "       [7.5e-01],\n",
       "       [1.0e+00]])"
      ]
     },
     "execution_count": 65,
     "metadata": {},
     "output_type": "execute_result"
    }
   ],
   "source": [
    "np.expand_dims(np.array(T_list), axis=1)"
   ]
  },
  {
   "cell_type": "code",
   "execution_count": 47,
   "metadata": {},
   "outputs": [
    {
     "data": {
      "text/plain": [
       "(300,)"
      ]
     },
     "execution_count": 47,
     "metadata": {},
     "output_type": "execute_result"
    }
   ],
   "source": [
    "AUCs_np = AUCs.flatten()\n",
    "AUCs_np.shape"
   ]
  },
  {
   "cell_type": "code",
   "execution_count": 48,
   "metadata": {},
   "outputs": [
    {
     "data": {
      "text/html": [
       "<div>\n",
       "<style scoped>\n",
       "    .dataframe tbody tr th:only-of-type {\n",
       "        vertical-align: middle;\n",
       "    }\n",
       "\n",
       "    .dataframe tbody tr th {\n",
       "        vertical-align: top;\n",
       "    }\n",
       "\n",
       "    .dataframe thead th {\n",
       "        text-align: right;\n",
       "    }\n",
       "</style>\n",
       "<table border=\"1\" class=\"dataframe\">\n",
       "  <thead>\n",
       "    <tr style=\"text-align: right;\">\n",
       "      <th></th>\n",
       "      <th>AUCs</th>\n",
       "    </tr>\n",
       "  </thead>\n",
       "  <tbody>\n",
       "    <tr>\n",
       "      <th>0</th>\n",
       "      <td>196.994978</td>\n",
       "    </tr>\n",
       "    <tr>\n",
       "      <th>1</th>\n",
       "      <td>225.266691</td>\n",
       "    </tr>\n",
       "    <tr>\n",
       "      <th>2</th>\n",
       "      <td>148.374462</td>\n",
       "    </tr>\n",
       "    <tr>\n",
       "      <th>3</th>\n",
       "      <td>208.082298</td>\n",
       "    </tr>\n",
       "    <tr>\n",
       "      <th>4</th>\n",
       "      <td>146.345973</td>\n",
       "    </tr>\n",
       "  </tbody>\n",
       "</table>\n",
       "</div>"
      ],
      "text/plain": [
       "         AUCs\n",
       "0  196.994978\n",
       "1  225.266691\n",
       "2  148.374462\n",
       "3  208.082298\n",
       "4  146.345973"
      ]
     },
     "execution_count": 48,
     "metadata": {},
     "output_type": "execute_result"
    }
   ],
   "source": [
    "AUCs_df = pd.DataFrame(data=AUCs_np, columns=['AUCs'])\n",
    "AUCs_df.head()"
   ]
  },
  {
   "cell_type": "code",
   "execution_count": 73,
   "metadata": {},
   "outputs": [],
   "source": [
    "T_params_list = np.array(T_list).repeat(25)"
   ]
  },
  {
   "cell_type": "code",
   "execution_count": 75,
   "metadata": {},
   "outputs": [
    {
     "data": {
      "text/html": [
       "<div>\n",
       "<style scoped>\n",
       "    .dataframe tbody tr th:only-of-type {\n",
       "        vertical-align: middle;\n",
       "    }\n",
       "\n",
       "    .dataframe tbody tr th {\n",
       "        vertical-align: top;\n",
       "    }\n",
       "\n",
       "    .dataframe thead th {\n",
       "        text-align: right;\n",
       "    }\n",
       "</style>\n",
       "<table border=\"1\" class=\"dataframe\">\n",
       "  <thead>\n",
       "    <tr style=\"text-align: right;\">\n",
       "      <th></th>\n",
       "      <th>Threshold</th>\n",
       "    </tr>\n",
       "  </thead>\n",
       "  <tbody>\n",
       "    <tr>\n",
       "      <th>0</th>\n",
       "      <td>0.00001</td>\n",
       "    </tr>\n",
       "    <tr>\n",
       "      <th>1</th>\n",
       "      <td>0.00001</td>\n",
       "    </tr>\n",
       "    <tr>\n",
       "      <th>2</th>\n",
       "      <td>0.00001</td>\n",
       "    </tr>\n",
       "    <tr>\n",
       "      <th>3</th>\n",
       "      <td>0.00001</td>\n",
       "    </tr>\n",
       "    <tr>\n",
       "      <th>4</th>\n",
       "      <td>0.00001</td>\n",
       "    </tr>\n",
       "  </tbody>\n",
       "</table>\n",
       "</div>"
      ],
      "text/plain": [
       "   Threshold\n",
       "0    0.00001\n",
       "1    0.00001\n",
       "2    0.00001\n",
       "3    0.00001\n",
       "4    0.00001"
      ]
     },
     "execution_count": 75,
     "metadata": {},
     "output_type": "execute_result"
    }
   ],
   "source": [
    "params_df = pd.DataFrame(data=T_params_list, columns=['Threshold'])\n",
    "params_df.head()"
   ]
  },
  {
   "cell_type": "code",
   "execution_count": 86,
   "metadata": {},
   "outputs": [
    {
     "data": {
      "text/plain": [
       "(300,)"
      ]
     },
     "execution_count": 86,
     "metadata": {},
     "output_type": "execute_result"
    }
   ],
   "source": [
    "bias_on_np = np.ones(T_params_list.shape[0])*5\n",
    "bias_on_np.shape"
   ]
  },
  {
   "cell_type": "code",
   "execution_count": 87,
   "metadata": {},
   "outputs": [
    {
     "data": {
      "text/html": [
       "<div>\n",
       "<style scoped>\n",
       "    .dataframe tbody tr th:only-of-type {\n",
       "        vertical-align: middle;\n",
       "    }\n",
       "\n",
       "    .dataframe tbody tr th {\n",
       "        vertical-align: top;\n",
       "    }\n",
       "\n",
       "    .dataframe thead th {\n",
       "        text-align: right;\n",
       "    }\n",
       "</style>\n",
       "<table border=\"1\" class=\"dataframe\">\n",
       "  <thead>\n",
       "    <tr style=\"text-align: right;\">\n",
       "      <th></th>\n",
       "      <th>Bias</th>\n",
       "    </tr>\n",
       "  </thead>\n",
       "  <tbody>\n",
       "    <tr>\n",
       "      <th>0</th>\n",
       "      <td>5.0</td>\n",
       "    </tr>\n",
       "    <tr>\n",
       "      <th>1</th>\n",
       "      <td>5.0</td>\n",
       "    </tr>\n",
       "    <tr>\n",
       "      <th>2</th>\n",
       "      <td>5.0</td>\n",
       "    </tr>\n",
       "    <tr>\n",
       "      <th>3</th>\n",
       "      <td>5.0</td>\n",
       "    </tr>\n",
       "    <tr>\n",
       "      <th>4</th>\n",
       "      <td>5.0</td>\n",
       "    </tr>\n",
       "  </tbody>\n",
       "</table>\n",
       "</div>"
      ],
      "text/plain": [
       "   Bias\n",
       "0   5.0\n",
       "1   5.0\n",
       "2   5.0\n",
       "3   5.0\n",
       "4   5.0"
      ]
     },
     "execution_count": 87,
     "metadata": {},
     "output_type": "execute_result"
    }
   ],
   "source": [
    "bias_df = pd.DataFrame(data=bias_on_np, columns=['Bias'])\n",
    "bias_df.head()"
   ]
  },
  {
   "cell_type": "code",
   "execution_count": 88,
   "metadata": {},
   "outputs": [
    {
     "data": {
      "text/html": [
       "<div>\n",
       "<style scoped>\n",
       "    .dataframe tbody tr th:only-of-type {\n",
       "        vertical-align: middle;\n",
       "    }\n",
       "\n",
       "    .dataframe tbody tr th {\n",
       "        vertical-align: top;\n",
       "    }\n",
       "\n",
       "    .dataframe thead th {\n",
       "        text-align: right;\n",
       "    }\n",
       "</style>\n",
       "<table border=\"1\" class=\"dataframe\">\n",
       "  <thead>\n",
       "    <tr style=\"text-align: right;\">\n",
       "      <th></th>\n",
       "      <th>AUCs</th>\n",
       "      <th>Threshold</th>\n",
       "      <th>Bias</th>\n",
       "    </tr>\n",
       "  </thead>\n",
       "  <tbody>\n",
       "    <tr>\n",
       "      <th>0</th>\n",
       "      <td>196.994978</td>\n",
       "      <td>0.00001</td>\n",
       "      <td>5.0</td>\n",
       "    </tr>\n",
       "    <tr>\n",
       "      <th>1</th>\n",
       "      <td>225.266691</td>\n",
       "      <td>0.00001</td>\n",
       "      <td>5.0</td>\n",
       "    </tr>\n",
       "    <tr>\n",
       "      <th>2</th>\n",
       "      <td>148.374462</td>\n",
       "      <td>0.00001</td>\n",
       "      <td>5.0</td>\n",
       "    </tr>\n",
       "    <tr>\n",
       "      <th>3</th>\n",
       "      <td>208.082298</td>\n",
       "      <td>0.00001</td>\n",
       "      <td>5.0</td>\n",
       "    </tr>\n",
       "    <tr>\n",
       "      <th>4</th>\n",
       "      <td>146.345973</td>\n",
       "      <td>0.00001</td>\n",
       "      <td>5.0</td>\n",
       "    </tr>\n",
       "  </tbody>\n",
       "</table>\n",
       "</div>"
      ],
      "text/plain": [
       "         AUCs  Threshold  Bias\n",
       "0  196.994978    0.00001   5.0\n",
       "1  225.266691    0.00001   5.0\n",
       "2  148.374462    0.00001   5.0\n",
       "3  208.082298    0.00001   5.0\n",
       "4  146.345973    0.00001   5.0"
      ]
     },
     "execution_count": 88,
     "metadata": {},
     "output_type": "execute_result"
    }
   ],
   "source": [
    "df = pd.concat((AUCs_df, params_df, bias_df), axis=1)\n",
    "df.head()"
   ]
  },
  {
   "cell_type": "markdown",
   "metadata": {},
   "source": [
    "#### Create Same but for no bias, then concat both dfs together"
   ]
  },
  {
   "cell_type": "code",
   "execution_count": null,
   "metadata": {},
   "outputs": [],
   "source": []
  },
  {
   "cell_type": "markdown",
   "metadata": {},
   "source": [
    "#### Plot"
   ]
  },
  {
   "cell_type": "code",
   "execution_count": 89,
   "metadata": {},
   "outputs": [
    {
     "name": "stderr",
     "output_type": "stream",
     "text": [
      "No handles with labels found to put in legend.\n"
     ]
    },
    {
     "data": {
      "text/plain": [
       "<matplotlib.legend.Legend at 0x1a1aecce48>"
      ]
     },
     "execution_count": 89,
     "metadata": {},
     "output_type": "execute_result"
    },
    {
     "data": {
      "image/png": "[encoded data removed]",
      "text/plain": [
       "<matplotlib.figure.Figure at 0x1a1aeccfd0>"
      ]
     },
     "metadata": {},
     "output_type": "display_data"
    }
   ],
   "source": [
    "palette = sns.color_palette(\"muted\", 12)\n",
    "sns.barplot(x='Threshold', y='AUCs', data=df, estimator=np.mean, palette=palette)\n",
    "plt.legend(loc=(1.05,0.25))"
   ]
  },
  {
   "cell_type": "code",
   "execution_count": null,
   "metadata": {},
   "outputs": [],
   "source": []
  }
 ],
 "metadata": {
  "kernelspec": {
   "display_name": "Python 3",
   "language": "python",
   "name": "python3"
  },
  "language_info": {
   "codemirror_mode": {
    "name": "ipython",
    "version": 3
   },
   "file_extension": ".py",
   "mimetype": "text/x-python",
   "name": "python",
   "nbconvert_exporter": "python",
   "pygments_lexer": "ipython3",
   "version": "3.6.4"
  },
  "toc": {
   "base_numbering": 1,
   "nav_menu": {},
   "number_sections": true,
   "sideBar": true,
   "skip_h1_title": false,
   "title_cell": "Table of Contents",
   "title_sidebar": "Contents",
   "toc_cell": false,
   "toc_position": {},
   "toc_section_display": true,
   "toc_window_display": false
  }
 },
 "nbformat": 4,
 "nbformat_minor": 2
}
