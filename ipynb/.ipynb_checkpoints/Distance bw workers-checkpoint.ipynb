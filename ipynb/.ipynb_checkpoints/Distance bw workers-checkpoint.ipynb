{
 "cells": [
  {
   "cell_type": "code",
   "execution_count": 73,
   "metadata": {},
   "outputs": [],
   "source": [
    "import numpy as np\n",
    "import matplotlib.pyplot as plt\n",
    "plt.rcParams[\"font.family\"] = \"Arial\""
   ]
  },
  {
   "cell_type": "code",
   "execution_count": 86,
   "metadata": {},
   "outputs": [],
   "source": [
    "t_array = np.arange(0.05, 120, 0.05)\n",
    "gamma_array = np.arange(0.0001, 0.1, 0.01)\n",
    "D = 0.1\n",
    "v_w = 0.1 # -1 or 1 (in 1D)\n",
    "phi_0 = 1;\n",
    "phi_c = 0.1;"
   ]
  },
  {
   "cell_type": "code",
   "execution_count": 87,
   "metadata": {},
   "outputs": [],
   "source": [
    "def calc_distance(v_w, t, D, phi_0, phi_c, gamma):\n",
    "#     term_1 = v_w * t\n",
    "#     term_2 = np.sqrt(4*D*t)\n",
    "#     term_3 = np.sqrt(np.log(phi_0/(np.sqrt(t)+1e-6)) - np.log(phi_c) - gamma*t)\n",
    "#     distance = term_1 + term_2 * term_3\n",
    "    \n",
    "#     distance = v_w*t + 8*D*t*(np.log(np.sqrt(phi_0/t))-np.log(phi_c)-gamma*t);\n",
    "\n",
    "    distance = v_w*t + np.sqrt(4*D*t) * np.sqrt(np.log(phi_0/np.sqrt(t))-np.log(phi_c)-gamma*t);\n",
    "\n",
    "\n",
    "    return distance"
   ]
  },
  {
   "cell_type": "code",
   "execution_count": 88,
   "metadata": {},
   "outputs": [
    {
     "name": "stderr",
     "output_type": "stream",
     "text": [
      "/Users/dieumynguyen/anaconda3/lib/python3.6/site-packages/ipykernel_launcher.py:9: RuntimeWarning: invalid value encountered in sqrt\n",
      "  if __name__ == '__main__':\n"
     ]
    }
   ],
   "source": [
    "gamma = gamma_array[0]\n",
    "distances = []\n",
    "for t in t_array:\n",
    "    distance = calc_distance(v_w, t, D, phi_0, phi_c, gamma)\n",
    "    distances.append(distance)"
   ]
  },
  {
   "cell_type": "code",
   "execution_count": 89,
   "metadata": {},
   "outputs": [
    {
     "data": {
      "text/plain": [
       "(0, 20)"
      ]
     },
     "execution_count": 89,
     "metadata": {},
     "output_type": "execute_result"
    },
    {
     "data": {
      "image/png": "[encoded data removed]",
      "text/plain": [
       "<matplotlib.figure.Figure at 0x111dad3c8>"
      ]
     },
     "metadata": {},
     "output_type": "display_data"
    }
   ],
   "source": [
    "plt.plot(distances)\n",
    "plt.title(f\"gamma: {gamma}\")\n",
    "plt.ylim(0, 20)"
   ]
  },
  {
   "cell_type": "code",
   "execution_count": null,
   "metadata": {},
   "outputs": [],
   "source": []
  },
  {
   "cell_type": "code",
   "execution_count": null,
   "metadata": {},
   "outputs": [],
   "source": []
  }
 ],
 "metadata": {
  "kernelspec": {
   "display_name": "Python 3",
   "language": "python",
   "name": "python3"
  },
  "language_info": {
   "codemirror_mode": {
    "name": "ipython",
    "version": 3
   },
   "file_extension": ".py",
   "mimetype": "text/x-python",
   "name": "python",
   "nbconvert_exporter": "python",
   "pygments_lexer": "ipython3",
   "version": "3.6.4"
  }
 },
 "nbformat": 4,
 "nbformat_minor": 2
}
