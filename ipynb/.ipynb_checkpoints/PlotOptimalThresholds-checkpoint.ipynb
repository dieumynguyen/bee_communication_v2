{
 "cells": [
  {
   "cell_type": "code",
   "execution_count": 1,
   "metadata": {},
   "outputs": [
    {
     "name": "stderr",
     "output_type": "stream",
     "text": [
      "/Users/dieumynguyen/anaconda3/lib/python3.6/site-packages/h5py/__init__.py:36: FutureWarning: Conversion of the second argument of issubdtype from `float` to `np.floating` is deprecated. In future, it will be treated as `np.float64 == np.dtype(float).type`.\n",
      "  from ._conv import register_converters as _register_converters\n"
     ]
    }
   ],
   "source": [
    "import h5py\n",
    "import numpy as np\n",
    "import glob2\n",
    "import os\n",
    "import itertools\n",
    "import matplotlib.pyplot as plt\n",
    "import seaborn as sns\n",
    "import json\n",
    "import pandas as pd\n"
   ]
  },
  {
   "cell_type": "code",
   "execution_count": 2,
   "metadata": {},
   "outputs": [],
   "source": [
    "# All params\n",
    "Q_list = [0.15]\n",
    "W_list = [0.15]\n",
    "D_list = [0.6]\n",
    "T_list = [0.00001, 0.0001, 0.001, 0.01, 0.025, 0.05, 0.075, 0.1, 0.25, 0.5, 0.75, 1.0]\n",
    "decay_list = [18.0]\n",
    "\n",
    "seed_list = list(np.arange(0, 25))"
   ]
  },
  {
   "cell_type": "code",
   "execution_count": 3,
   "metadata": {},
   "outputs": [],
   "source": [
    "n_experiments = len(T_list)\n",
    "n_timesteps = 8000\n",
    "n_trials = 25"
   ]
  },
  {
   "cell_type": "markdown",
   "metadata": {},
   "source": [
    "### Plot distance and number of scenters for optimal Ts of wb=0 and wb=5"
   ]
  },
  {
   "cell_type": "code",
   "execution_count": 4,
   "metadata": {},
   "outputs": [],
   "source": [
    "def make_df(data, data_type, optimal_T, bias, stepsize=1, smoothing=True):\n",
    "    \n",
    "    distances = data[f'Q0.15_W0.15_D0.6_T{optimal_T:0.5f}_wb{bias:0.1f}_decay18.0']\n",
    "    \n",
    "    # Get the mean distances over 25 trials/seeds\n",
    "    # distance_means = []\n",
    "    # for trial_i, trial in enumerate(distances):\n",
    "    #     distance_means.append(distances[trial])\n",
    "    # distance_means_array = np.mean(np.array(distance_means), axis=0)\n",
    "    all_distances = []\n",
    "    for key, val in distances.items():\n",
    "        all_distances.append(val)\n",
    "        \n",
    "    n_timesteps = len(val)\n",
    "    all_distances_np = np.array(all_distances)\n",
    "    \n",
    "    # Smooth data \n",
    "    if smoothing:\n",
    "        shape = all_distances_np.shape\n",
    "        all_distances_np = np.reshape(all_distances_np, (shape[0], shape[1]//stepsize, stepsize))\n",
    "        all_distances_np = all_distances_np.mean(axis=2)\n",
    "    else:\n",
    "        all_distances_np = all_distances_np[:,::stepsize]\n",
    "    \n",
    "    n_trials, n_timesteps = all_distances_np.shape\n",
    "    \n",
    "    all_distances = all_distances_np.flatten()\n",
    "    \n",
    "    # Make dataframes and concatenate \n",
    "    # Distances\n",
    "    distance_df = pd.DataFrame(data=all_distances, columns=[data_type])\n",
    "\n",
    "    # Time\n",
    "    timesteps_np = np.tile(list(range(0, n_timesteps*stepsize, stepsize)), 1*n_trials)\n",
    "    timesteps_df = pd.DataFrame(data=timesteps_np, columns=['Time'])\n",
    "\n",
    "    # Optimal threshold\n",
    "    T_params_list = np.array(optimal_T).repeat(n_timesteps*n_trials)\n",
    "    T_params_df = pd.DataFrame(data=T_params_list, columns=['Threshold'])\n",
    "\n",
    "    # Bias\n",
    "    if bias:\n",
    "        bias_on_np = np.ones(T_params_list.shape[0]) * 5\n",
    "        bias_df = pd.DataFrame(data=bias_on_np, columns=['Bias'])\n",
    "    else:\n",
    "        bias_on_np = np.zeros(T_params_list.shape[0])\n",
    "        bias_df = pd.DataFrame(data=bias_on_np, columns=['Bias'])\n",
    "\n",
    "    # Total dataframe\n",
    "    df = pd.concat((timesteps_df, distance_df, T_params_df, bias_df), axis=1)\n",
    "    \n",
    "    return df, n_timesteps "
   ]
  },
  {
   "cell_type": "code",
   "execution_count": 7,
   "metadata": {},
   "outputs": [],
   "source": [
    "def read_data(density):\n",
    "    \n",
    "    # Distance data \n",
    "    filename = f\"distance_data/wb=0/distance_data_n={density}.json\"\n",
    "    filename2 = f\"distance_data/wb=5/distance_data_n={density}.json\"\n",
    "\n",
    "    with open(filename) as f:\n",
    "        distance_data_wb0 = json.load(f)\n",
    "\n",
    "    with open(filename2) as f:\n",
    "        distance_data_wb5 = json.load(f)\n",
    "\n",
    "    # Scenter data\n",
    "    s_filename = f\"scenting_data/wb=0/state_data_{density}.json\"\n",
    "    s_filename2 = f\"scenting_data/wb=5/state_data_{density}.json\"\n",
    "\n",
    "    with open(s_filename) as f:\n",
    "        scenter_data_wb0 = json.load(f)\n",
    "\n",
    "    with open(s_filename2) as f:\n",
    "        scenter_data_wb5 = json.load(f)\n",
    "        \n",
    "    return distance_data_wb0, distance_data_wb5, scenter_data_wb0, scenter_data_wb5"
   ]
  },
  {
   "cell_type": "code",
   "execution_count": 9,
   "metadata": {},
   "outputs": [],
   "source": [
    "def create_distance_scenter_dfs(distance_data_wb0, distance_data_wb5, \n",
    "                               scenter_data_wb0, scenter_data_wb5, \n",
    "                               wb0_optimalT, wb5_optimalT,\n",
    "                               stepsize):\n",
    "    \n",
    "    df_wb0, n_timesteps = make_df(distance_data_wb0, 'Distance', wb0_optimalT, 0, stepsize)\n",
    "    df_wb5, n_timesteps = make_df(distance_data_wb5, 'Distance', wb5_optimalT, 5, stepsize)\n",
    "    df = pd.concat((df_wb0, df_wb5), axis=0)\n",
    "    \n",
    "    df_s_wb0, n_timesteps = make_df(scenter_data_wb0, 'NumScenters', wb0_optimalT, 0, stepsize)\n",
    "    df_s_wb5, n_timesteps = make_df(scenter_data_wb5, 'NumScenters', wb5_optimalT, 5, stepsize)\n",
    "    df_s = pd.concat((df_s_wb0, df_s_wb5), axis=0)\n",
    "    \n",
    "    return df, df_s"
   ]
  },
  {
   "cell_type": "code",
   "execution_count": 125,
   "metadata": {},
   "outputs": [],
   "source": [
    "def plot(ax, df, df_s, wb0_optimalT, wb5_optimalT, density):\n",
    "    \n",
    "    sns.set(style=\"ticks\", font_scale=1.15)\n",
    "    \n",
    "    palette = sns.color_palette(\"Set2\", 2, 1)\n",
    "    palette2 = sns.color_palette(\"Set2\", 2, 1)\n",
    "\n",
    "    # Distance curves\n",
    "    sns.lineplot(x='Time', y='Distance', hue='Bias', data=df, markers='o',\n",
    "                 estimator=np.mean, ci=None, palette=palette, ax=ax)\n",
    "    \n",
    "    for line in ax.lines:\n",
    "        line.set_linestyle(\"--\")\n",
    "\n",
    "    ax.set(xlabel='Time', ylabel='Distance to queen', ylim=(0, 2))\n",
    "\n",
    "    # Distance legend\n",
    "    handles, labels = ax.get_legend_handles_labels()\n",
    "    labels = [f\"wb=0, T={wb0_optimalT:0.3f}, Distance to queen\", f\"wb=5, T={wb5_optimalT:0.3f}, Distance to queen\"]\n",
    "    leg = ax.legend(handles=handles[1:], labels=labels[0:], \n",
    "               title=\"Bias (wb), Optimal Threshold (T)\", loc=(1.15, 0.45), frameon=False)\n",
    "    leg_lines = leg.get_lines()\n",
    "    \n",
    "    for line in leg_lines:\n",
    "        line.set_linestyle(\"--\")\n",
    "\n",
    "    # NumScenters curves\n",
    "    ax2 = ax.twinx()\n",
    "    sns.lineplot(x='Time', y='NumScenters', hue='Bias', data=df_s, \n",
    "                 estimator=np.mean, ci=None, palette=palette2, ax=ax2)\n",
    "\n",
    "    ax2.set(ylabel='Number of scenters', ylim=(0, int(density)))\n",
    "\n",
    "    # Scenters legend\n",
    "    handles2, labels2 = ax2.get_legend_handles_labels()\n",
    "    labels = [f\"wb=0, T={wb0_optimalT:0.3f}, Number of scenters\", f\"wb=5, T={wb5_optimalT:0.3f}, Number of scenters\"]\n",
    "    leg2 = ax2.legend(handles=handles[1:], labels=labels[0:], loc=(1.15, 0.18), frameon=False)\n",
    "    leg_lines_2 = leg2.get_lines()\n",
    "    \n",
    "    for line in leg_lines_2:\n",
    "        line.set_linestyle(\"-\")\n",
    "    \n",
    "    # Fig setting\n",
    "    ax.set_title(f\"Worker density = {density}\")\n",
    "    ax.set_xlim(-150, 8000)\n",
    "    sns.despine(right=False)"
   ]
  },
  {
   "cell_type": "code",
   "execution_count": 126,
   "metadata": {},
   "outputs": [],
   "source": [
    "density_dict = {\"35\": [0.001, 0.01],  # Optimal T for wb=0 and wb=5\n",
    "                \"70\": [0.001, 0.025],\n",
    "                \"140\": [0.025, 0.1]\n",
    "               }"
   ]
  },
  {
   "cell_type": "code",
   "execution_count": null,
   "metadata": {
    "scrolled": false
   },
   "outputs": [],
   "source": [
    "STEPSIZE = 4\n",
    "\n",
    "fig, axs = plt.subplots(3, 1, figsize=(5, 10), facecolor='w', edgecolor='k')\n",
    "fig.subplots_adjust(hspace=0.5, wspace=0.2)\n",
    "\n",
    "for ax, density in zip(axs, density_dict):    \n",
    "    wb0_optimalT = density_dict[density][0]\n",
    "    wb5_optimalT = density_dict[density][1]\n",
    "\n",
    "    distance_data_wb0, distance_data_wb5, scenter_data_wb0, scenter_data_wb5 = read_data(density)\n",
    "    df, df_s = create_distance_scenter_dfs(distance_data_wb0, distance_data_wb5, \n",
    "                                           scenter_data_wb0, scenter_data_wb5, \n",
    "                                           wb0_optimalT, wb5_optimalT,\n",
    "                                           STEPSIZE)\n",
    "    plot(ax, df, df_s, wb0_optimalT, wb5_optimalT, density)\n",
    "    \n",
    "plt.suptitle('Optimal thresholds', size=16, x=0.5, y=0.94)\n"
   ]
  },
  {
   "cell_type": "code",
   "execution_count": null,
   "metadata": {},
   "outputs": [],
   "source": []
  },
  {
   "cell_type": "code",
   "execution_count": null,
   "metadata": {},
   "outputs": [],
   "source": []
  },
  {
   "cell_type": "code",
   "execution_count": null,
   "metadata": {},
   "outputs": [],
   "source": []
  }
 ],
 "metadata": {
  "kernelspec": {
   "display_name": "Python 3",
   "language": "python",
   "name": "python3"
  },
  "language_info": {
   "codemirror_mode": {
    "name": "ipython",
    "version": 3
   },
   "file_extension": ".py",
   "mimetype": "text/x-python",
   "name": "python",
   "nbconvert_exporter": "python",
   "pygments_lexer": "ipython3",
   "version": "3.6.4"
  },
  "toc": {
   "base_numbering": 1,
   "nav_menu": {},
   "number_sections": true,
   "sideBar": true,
   "skip_h1_title": false,
   "title_cell": "Table of Contents",
   "title_sidebar": "Contents",
   "toc_cell": false,
   "toc_position": {},
   "toc_section_display": true,
   "toc_window_display": false
  }
 },
 "nbformat": 4,
 "nbformat_minor": 2
}
