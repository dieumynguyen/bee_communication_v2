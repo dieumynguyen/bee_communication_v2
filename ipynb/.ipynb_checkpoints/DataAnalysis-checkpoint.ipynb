{
 "cells": [
  {
   "cell_type": "markdown",
   "metadata": {},
   "source": [
    "### Imports"
   ]
  },
  {
   "cell_type": "code",
   "execution_count": 1,
   "metadata": {},
   "outputs": [],
   "source": [
    "import warnings\n",
    "warnings.filterwarnings(\"ignore\")\n",
    "\n",
    "import os\n",
    "import sys\n",
    "import numpy as np\n",
    "import glob2\n",
    "import h5py\n",
    "import matplotlib.pyplot as plt\n",
    "\n",
    "%matplotlib inline"
   ]
  },
  {
   "cell_type": "code",
   "execution_count": 2,
   "metadata": {},
   "outputs": [],
   "source": [
    "import ipynb\n",
    "import importlib"
   ]
  },
  {
   "cell_type": "code",
   "execution_count": 3,
   "metadata": {},
   "outputs": [],
   "source": [
    "import ipynb.fs.full.modules.Config as config"
   ]
  },
  {
   "cell_type": "code",
   "execution_count": 4,
   "metadata": {},
   "outputs": [
    {
     "data": {
      "text/plain": [
       "<module 'ipynb.fs.full.modules.Config' (C:\\Users\\mliuzzolino\\Desktop\\bee_communication_v2\\ipynb\\modules\\Config.ipynb)>"
      ]
     },
     "execution_count": 4,
     "metadata": {},
     "output_type": "execute_result"
    }
   ],
   "source": [
    "importlib.reload(config)"
   ]
  },
  {
   "cell_type": "markdown",
   "metadata": {},
   "source": [
    "### Read Config File"
   ]
  },
  {
   "cell_type": "code",
   "execution_count": 6,
   "metadata": {},
   "outputs": [],
   "source": [
    "# def read_config(base_exp_dir):\n",
    "#     cfg_path = base_exp_dir + \"/exp_1.cfg\"\n",
    "#     cfg_path, os.path.exists(cfg_path)\n",
    "\n",
    "#     with open(cfg_path, \"r\") as infile:\n",
    "#         lines = [line.split() for line in infile]\n",
    "#         cfg_opts = {}\n",
    "#         for key, val in lines:\n",
    "#             key = key.replace('--', '')\n",
    "\n",
    "#             try:\n",
    "#                 val = float(val)\n",
    "#             except:\n",
    "#                 try:\n",
    "#                     val = int(val)\n",
    "#                 except:\n",
    "#                     if val.startswith(\"T\"):\n",
    "#                         val = True\n",
    "#                     elif val.startswith(\"F\"):\n",
    "#                         val = False\n",
    "#                     pass\n",
    "#             cfg_opts[key] = val\n",
    "#     return cfg_opts"
   ]
  },
  {
   "cell_type": "code",
   "execution_count": 7,
   "metadata": {},
   "outputs": [],
   "source": [
    "# base_exp_dir = \"/Users/dieumynguyen/Desktop/Projects/bee_communication_v2/script/experiments/cfg__exp_1__2019-01-12_21-34-53\"\n",
    "# config = read_config(base_exp_dir)"
   ]
  },
  {
   "cell_type": "code",
   "execution_count": 8,
   "metadata": {},
   "outputs": [
    {
     "data": {
      "text/plain": [
       "<module 'ipynb.fs.full.modules.Config' (C:\\Users\\mliuzzolino\\Desktop\\bee_communication_v2\\ipynb\\modules\\Config.ipynb)>"
      ]
     },
     "execution_count": 8,
     "metadata": {},
     "output_type": "execute_result"
    }
   ],
   "source": [
    "config"
   ]
  },
  {
   "cell_type": "markdown",
   "metadata": {},
   "source": [
    "### Data visualization"
   ]
  },
  {
   "cell_type": "markdown",
   "metadata": {},
   "source": [
    "- Read in envir_hist.h5 and bee_hist.h5 <br>\n",
    "- Make movies <br>\n",
    "- Plot distance from queen "
   ]
  },
  {
   "cell_type": "code",
   "execution_count": 10,
   "metadata": {},
   "outputs": [
    {
     "data": {
      "text/plain": [
       "['bee_hist.h5', 'envir_hist.h5']"
      ]
     },
     "execution_count": 10,
     "metadata": {},
     "output_type": "execute_result"
    }
   ],
   "source": [
    "glob2.glob(\"*.h5\")"
   ]
  },
  {
   "cell_type": "code",
   "execution_count": 11,
   "metadata": {},
   "outputs": [
    {
     "data": {
      "text/plain": [
       "(True, True)"
      ]
     },
     "execution_count": 11,
     "metadata": {},
     "output_type": "execute_result"
    }
   ],
   "source": [
    "env_path = \"envir_hist.h5\"\n",
    "bee_path = \"bee_hist.h5\"\n",
    "os.path.exists(env_path), os.path.exists(bee_path)"
   ]
  },
  {
   "cell_type": "code",
   "execution_count": 12,
   "metadata": {},
   "outputs": [],
   "source": [
    "with h5py.File(env_path, 'r') as infile:\n",
    "    cmaps = np.array(infile['concentration'])"
   ]
  },
  {
   "cell_type": "code",
   "execution_count": 13,
   "metadata": {},
   "outputs": [],
   "source": [
    "bee_data = {}\n",
    "with h5py.File(bee_path, 'r') as infile:\n",
    "    for key, val in infile.items():\n",
    "        bee_data[key] = np.array(val)"
   ]
  },
  {
   "cell_type": "code",
   "execution_count": 14,
   "metadata": {},
   "outputs": [
    {
     "data": {
      "text/plain": [
       "dict_keys(['bee_i', 'distance_from_queen', 'gradient_x', 'gradient_y', 'state', 't', 'wx', 'wy', 'x', 'y'])"
      ]
     },
     "execution_count": 14,
     "metadata": {},
     "output_type": "execute_result"
    }
   ],
   "source": [
    "bee_data.keys()"
   ]
  },
  {
   "cell_type": "code",
   "execution_count": 15,
   "metadata": {},
   "outputs": [],
   "source": [
    "bee_nums = np.unique(bee_data['bee_i'])\n",
    "bees = {}\n",
    "for bee_num in bee_nums:\n",
    "    idxs = np.where(bee_data['bee_i']==bee_num)\n",
    "    bee_x = bee_data['x'][idxs]\n",
    "    bee_y = bee_data['y'][idxs]\n",
    "    bee_state = bee_data['state'][idxs]\n",
    "    distance = bee_data['distance_from_queen'][idxs]\n",
    "    bee_grads = bee_data['gradient_x'][idxs], bee_data['gradient_y'][idxs]\n",
    "    bias = bee_data['wx'][idxs], bee_data['wy'][idxs]\n",
    "    bees[bee_num] = {\"x\" : bee_x, \"y\" : bee_y, \"state\": bee_state,\n",
    "                    \"distance\": distance, \"grads\" : bee_grads}"
   ]
  },
  {
   "cell_type": "code",
   "execution_count": 16,
   "metadata": {},
   "outputs": [
    {
     "data": {
      "text/plain": [
       "dict_keys([0, 1, 2, 3, 4, 5, 6, 7, 8, 9, 10, 11, 12, 13, 14, 15, 16, 17, 18, 19, 20, 21, 22, 23, 24, 25, 26, 27, 28, 29, 30, 31, 32, 33, 34, 35, 36, 37, 38, 39, 40, 41, 42, 43, 44, 45, 46, 47, 48, 49, 50, 51, 52, 53, 54, 55, 56, 57, 58, 59, 60, 61, 62, 63, 64, 65, 66, 67, 68, 69])"
      ]
     },
     "execution_count": 16,
     "metadata": {},
     "output_type": "execute_result"
    }
   ],
   "source": [
    "bees.keys()"
   ]
  },
  {
   "cell_type": "markdown",
   "metadata": {},
   "source": [
    "### Get params from config"
   ]
  },
  {
   "cell_type": "code",
   "execution_count": 24,
   "metadata": {},
   "outputs": [],
   "source": [
    "X_MIN = config.X_MIN\n",
    "X_MAX = config.X_MAX\n",
    "DX = config.DX\n",
    "GRID_SIZE = np.arange(X_MIN, X_MAX+DX, DX).shape[0]"
   ]
  },
  {
   "cell_type": "code",
   "execution_count": 25,
   "metadata": {},
   "outputs": [],
   "source": [
    "convert_xy_to_index = lambda xy: ((xy - X_MIN) / (X_MAX - X_MIN)) * GRID_SIZE"
   ]
  },
  {
   "cell_type": "code",
   "execution_count": 26,
   "metadata": {},
   "outputs": [
    {
     "data": {
      "text/plain": [
       "300.5"
      ]
     },
     "execution_count": 26,
     "metadata": {},
     "output_type": "execute_result"
    }
   ],
   "source": [
    "convert_xy_to_index(0)"
   ]
  },
  {
   "cell_type": "code",
   "execution_count": 27,
   "metadata": {},
   "outputs": [],
   "source": [
    "D = config.DIFFUSION_COEFFICIENT\n",
    "DECAY = config.DECAY"
   ]
  },
  {
   "cell_type": "code",
   "execution_count": 28,
   "metadata": {},
   "outputs": [
    {
     "data": {
      "text/plain": [
       "201"
      ]
     },
     "execution_count": 28,
     "metadata": {},
     "output_type": "execute_result"
    }
   ],
   "source": [
    "T_MIN = config.T_MIN\n",
    "T_MAX = config.T_MAX\n",
    "DT = config.DT\n",
    "NUM_TIMESTEPS = np.arange(T_MIN, T_MAX+DT, DT).shape[0]\n",
    "NUM_TIMESTEPS"
   ]
  },
  {
   "cell_type": "code",
   "execution_count": 29,
   "metadata": {},
   "outputs": [],
   "source": [
    "QUEEN_BEE_A = config.QUEEN_INITIAL_CONCENTRATION\n",
    "WORKER_BEE_A = config.WORKER_INITIAL_CONCENTRATION\n",
    "THRESHOLD = config.WORKER_THRESHOLD\n",
    "WB = config.WORKER_BIAS_SCALAR"
   ]
  },
  {
   "cell_type": "markdown",
   "metadata": {},
   "source": [
    "### Make Frames"
   ]
  },
  {
   "cell_type": "code",
   "execution_count": 30,
   "metadata": {},
   "outputs": [],
   "source": [
    "colors = [\"red\", \"gray\", \"#479030\", \"orange\"]\n",
    "color_decoder = {\n",
    "    0: colors[1],\n",
    "    1: colors[2],\n",
    "    2: colors[2],\n",
    "    3: colors[3]\n",
    "}"
   ]
  },
  {
   "cell_type": "code",
   "execution_count": 32,
   "metadata": {
    "scrolled": true
   },
   "outputs": [
    {
     "name": "stdout",
     "output_type": "stream",
     "text": [
      "Frame 200/200"
     ]
    }
   ],
   "source": [
    "for frame_i in range(cmaps.shape[0]):\n",
    "    sys.stdout.write(f\"\\rFrame {frame_i+1}/{cmaps.shape[0]}\")\n",
    "    sys.stdout.flush()\n",
    "    \n",
    "    # CONCENTRATION\n",
    "    cmap = cmaps[frame_i]\n",
    "    plt.imshow(cmap, cmap='viridis', vmin=None, vmax=None)\n",
    "    plt.colorbar(shrink=0.8, format='%.2e')  \n",
    "    \n",
    "    # QUEEN\n",
    "    queen = convert_xy_to_index(0)\n",
    "    plt.scatter(queen, queen, c=\"red\", s=100, edgecolors='black', marker='o')     \n",
    "    \n",
    "    # WORKERS\n",
    "    for bee_key, bee_vals in bees.items():\n",
    "        x = bee_vals['x'][frame_i]\n",
    "        y = bee_vals['y'][frame_i]\n",
    "        state = bee_vals['state'][frame_i]\n",
    "        color = color_decoder[state]\n",
    "        plt.scatter(convert_xy_to_index(x), convert_xy_to_index(y), \n",
    "                    color=color, s=30, edgecolors='black')\n",
    "        \n",
    "    # FORMATTING\n",
    "    texts = [\"Queen\", \"Worker - random walk\", \"Worker - scenting\", \"Worker - directed walk\"]\n",
    "    patches = [ plt.plot([],[], marker=\"o\", ms=5, ls=\"\", mec=None, color=colors[i], \n",
    "                 markeredgecolor=\"black\", label=\"{:s}\".format(texts[i]) )[0]  for i in range(len(texts)) ]\n",
    "    plt.legend(handles=patches, bbox_to_anchor=(0.5, -0.22), \n",
    "               loc='center', ncol=2, numpoints=1, labelspacing=0.3,\n",
    "               fontsize='small', fancybox=\"True\",\n",
    "               handletextpad=0, columnspacing=0)\n",
    "    plt.xlabel(\"x\")\n",
    "    plt.ylabel(\"y\")\n",
    "    plt.xlim(0, 600)\n",
    "    plt.ylim(600, 0) \n",
    "\n",
    "    plt.title(f\"Q{QUEEN_BEE_A}_W{WORKER_BEE_A}_D{D}_T{THRESHOLD}_wb{WB}_decay{DECAY} \\n t: {frame_i+1}/{NUM_TIMESTEPS}\")\n",
    "\n",
    "    # SAVING FRAMES\n",
    "    file_path = f't{frame_i+1:03d}.png'\n",
    "    filename = f'{config.SAVE_FOLDER}/{file_path}'\n",
    "    plt.savefig(filename, bbox_inches='tight', dpi=200)\n",
    "    plt.close()"
   ]
  },
  {
   "cell_type": "markdown",
   "metadata": {},
   "source": [
    "### Plot average worker distance from queen"
   ]
  },
  {
   "cell_type": "code",
   "execution_count": 36,
   "metadata": {},
   "outputs": [
    {
     "data": {
      "text/plain": [
       "70"
      ]
     },
     "execution_count": 36,
     "metadata": {},
     "output_type": "execute_result"
    }
   ],
   "source": [
    "num_bees = np.unique(bee_data['bee_i']).shape[0]\n",
    "num_bees"
   ]
  },
  {
   "cell_type": "code",
   "execution_count": 37,
   "metadata": {},
   "outputs": [],
   "source": [
    "distances_per_t = bee_data['distance_from_queen'].reshape(-1, num_bees)\n",
    "median_distances = np.median(distances_per_t, axis=1)"
   ]
  },
  {
   "cell_type": "code",
   "execution_count": 38,
   "metadata": {
    "scrolled": true
   },
   "outputs": [
    {
     "data": {
      "text/plain": [
       "Text(0, 0.5, 'Median worker distance from queen')"
      ]
     },
     "execution_count": 38,
     "metadata": {},
     "output_type": "execute_result"
    },
    {
     "data": {
      "image/png": "[encoded data removed]",
      "text/plain": [
       "<Figure size 432x288 with 1 Axes>"
      ]
     },
     "metadata": {
      "needs_background": "light"
     },
     "output_type": "display_data"
    }
   ],
   "source": [
    "plt.plot(median_distances)\n",
    "plt.xlabel('Time')\n",
    "plt.ylabel('Median worker distance from queen')"
   ]
  },
  {
   "cell_type": "markdown",
   "metadata": {},
   "source": [
    "## Video Stuff"
   ]
  },
  {
   "cell_type": "code",
   "execution_count": 40,
   "metadata": {},
   "outputs": [],
   "source": [
    "!start ."
   ]
  },
  {
   "cell_type": "code",
   "execution_count": 39,
   "metadata": {},
   "outputs": [
    {
     "name": "stderr",
     "output_type": "stream",
     "text": [
      "The system cannot find the file specified.\n"
     ]
    }
   ],
   "source": [
    "!convert -delay 25 $config[\"save_folder\"]/t*.png $config.VID_PATH"
   ]
  },
  {
   "cell_type": "code",
   "execution_count": null,
   "metadata": {},
   "outputs": [],
   "source": [
    "VLC = \"/Applications/VLC.app/Contents/MacOS/VLC\"\n",
    "!$VLC $config.VID_PATH"
   ]
  }
 ],
 "metadata": {
  "kernelspec": {
   "display_name": "Python [default]",
   "language": "python",
   "name": "python3"
  },
  "language_info": {
   "codemirror_mode": {
    "name": "ipython",
    "version": 3
   },
   "file_extension": ".py",
   "mimetype": "text/x-python",
   "name": "python",
   "nbconvert_exporter": "python",
   "pygments_lexer": "ipython3",
   "version": "3.6.7"
  }
 },
 "nbformat": 4,
 "nbformat_minor": 2
}
