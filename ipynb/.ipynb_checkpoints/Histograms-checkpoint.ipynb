{
 "cells": [
  {
   "cell_type": "code",
   "execution_count": 178,
   "metadata": {},
   "outputs": [],
   "source": [
    "import h5py\n",
    "import numpy as np\n",
    "import glob2\n",
    "import os\n",
    "import itertools\n",
    "import json\n",
    "\n",
    "import seaborn as sns\n",
    "import matplotlib.pyplot as plt"
   ]
  },
  {
   "cell_type": "code",
   "execution_count": 324,
   "metadata": {},
   "outputs": [],
   "source": [
    "# All params\n",
    "Q_list = [0.15]\n",
    "W_list = [0.15]\n",
    "D_list = [0.6]\n",
    "T_list = [0.01]\n",
    "wb_list = [5.0]\n",
    "decay_list = [18.0]\n",
    "# seed_list = list(np.arange(0, 25))\n",
    "seed_list = 0\n",
    "\n",
    "num_timesteps = 60"
   ]
  },
  {
   "cell_type": "code",
   "execution_count": 325,
   "metadata": {},
   "outputs": [],
   "source": [
    "param_sets = list(itertools.product(Q_list, W_list, D_list, T_list, wb_list, decay_list))\n",
    "\n",
    "base_exp_dir = \"\"\n"
   ]
  },
  {
   "cell_type": "markdown",
   "metadata": {},
   "source": [
    "Grab distances at t=2000 for all bees "
   ]
  },
  {
   "cell_type": "code",
   "execution_count": 326,
   "metadata": {},
   "outputs": [
    {
     "name": "stdout",
     "output_type": "stream",
     "text": [
      "bee_path: Q0.15_W0.15_D0.6_T0.0100_wb5.0_decay18.0_seed0/bee_hist.h5 \n",
      "\n"
     ]
    }
   ],
   "source": [
    "distance_data = {}\n",
    "for param in param_sets:\n",
    "    Q = param[0]\n",
    "    W = param[1]\n",
    "    D = param[2]\n",
    "    T = param[3]\n",
    "    wb = param[4]\n",
    "    decay = param[5]\n",
    "    param_dir = f\"Q{Q}_W{W}_D{D}_T{T:0.4f}_wb{wb}_decay{decay}\"\n",
    "\n",
    "    distance_data[param_dir] = {}\n",
    "    bee_path = os.path.join(base_exp_dir, f\"{param_dir}_seed{seed_list}\", \"bee_hist.h5\")\n",
    "\n",
    "    print(f\"bee_path: {bee_path} \\n\")\n",
    "\n",
    "    # Get distance data\n",
    "    bee_data = {}\n",
    "    with h5py.File(bee_path, 'r') as infile:\n",
    "        for key, val in infile.items():\n",
    "            bee_data[key] = np.array(val)\n",
    "\n",
    "    bee_nums = np.unique(bee_data['bee_i'])\n",
    "    bees = {}\n",
    "    for bee_num in bee_nums:\n",
    "        idxs = np.where(bee_data['bee_i']==bee_num)\n",
    "        bee_x = bee_data['x'][idxs]\n",
    "        bee_y = bee_data['y'][idxs]\n",
    "        bee_state = bee_data['state'][idxs]\n",
    "        distance = bee_data['distance_from_queen'][idxs]\n",
    "        bee_grads = bee_data['gradient_x'][idxs], bee_data['gradient_y'][idxs]\n",
    "        bias = bee_data['wx'][idxs], bee_data['wy'][idxs]\n",
    "        bees[bee_num] = {\"x\" : bee_x, \"y\" : bee_y, \"state\": bee_state,\n",
    "                        \"distance\": distance, \"grads\" : bee_grads}\n",
    "    # Extract distance\n",
    "    num_bees = np.unique(bee_data['bee_i']).shape[0]\n",
    "    distances_per_t = bee_data['distance_from_queen'].reshape(-1, num_bees)\n",
    "\n",
    "    data_idx = num_timesteps // 2\n",
    "    \n",
    "\n",
    "\n",
    "#         median_distances = list(np.mean(distances_per_t, axis=1))\n",
    "\n",
    "#         trial_str = str(trial)\n",
    "#         distance_data[param_dir][trial_str] = median_distances\n",
    "\n"
   ]
  },
  {
   "cell_type": "code",
   "execution_count": 327,
   "metadata": {},
   "outputs": [
    {
     "data": {
      "text/plain": [
       "(99, 399, 799)"
      ]
     },
     "execution_count": 327,
     "metadata": {},
     "output_type": "execute_result"
    }
   ],
   "source": [
    "# time1 = int(distances_per_t.shape[0] / 4 - 1)\n",
    "time1 = 99\n",
    "time2 = int(distances_per_t.shape[0] / 2 - 1)\n",
    "time3 = int(distances_per_t.shape[0] / 1 - 1)\n",
    "time1, time2, time3"
   ]
  },
  {
   "cell_type": "code",
   "execution_count": 333,
   "metadata": {},
   "outputs": [],
   "source": [
    "from scipy.stats import norm"
   ]
  },
  {
   "cell_type": "code",
   "execution_count": 338,
   "metadata": {},
   "outputs": [
    {
     "data": {
      "image/png": "[encoded data removed]",
      "text/plain": [
       "<matplotlib.figure.Figure at 0x1a1710efd0>"
      ]
     },
     "metadata": {},
     "output_type": "display_data"
    }
   ],
   "source": [
    "sns.set_style(\"ticks\")\n",
    "sns.distplot(distances_per_t[time1,:], hist=True, label=f\"Time step = {time1+1}\",  bins=10, kde=True)\n",
    "sns.distplot(distances_per_t[time2,:], hist=True, label=f\"Time step = {time2+1}\",  bins=10, kde=True)\n",
    "sns.distplot(distances_per_t[time3,:], hist=True, label=f\"Time step = {time3+1}\",  bins=10, kde=True)\n",
    "plt.xlabel('Distance')\n",
    "plt.ylabel('Distribution')\n",
    "plt.title(f'Distribution of worker distances from queen, T={T_list[0]}')\n",
    "plt.legend()\n",
    "sns.despine()\n",
    "\n",
    "plt.savefig(f'T={T_list[0]}.png')\n"
   ]
  },
  {
   "cell_type": "code",
   "execution_count": null,
   "metadata": {},
   "outputs": [],
   "source": []
  },
  {
   "cell_type": "code",
   "execution_count": null,
   "metadata": {},
   "outputs": [],
   "source": []
  }
 ],
 "metadata": {
  "kernelspec": {
   "display_name": "Python 3",
   "language": "python",
   "name": "python3"
  },
  "language_info": {
   "codemirror_mode": {
    "name": "ipython",
    "version": 3
   },
   "file_extension": ".py",
   "mimetype": "text/x-python",
   "name": "python",
   "nbconvert_exporter": "python",
   "pygments_lexer": "ipython3",
   "version": "3.6.4"
  }
 },
 "nbformat": 4,
 "nbformat_minor": 2
}
