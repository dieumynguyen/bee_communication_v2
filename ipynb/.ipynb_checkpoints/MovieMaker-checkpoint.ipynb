{
 "cells": [
  {
   "cell_type": "markdown",
   "metadata": {},
   "source": [
    "### Imports"
   ]
  },
  {
   "cell_type": "code",
   "execution_count": 245,
   "metadata": {},
   "outputs": [],
   "source": [
    "import warnings\n",
    "warnings.filterwarnings(\"ignore\")\n",
    "\n",
    "import os\n",
    "import sys\n",
    "import numpy as np\n",
    "import glob2\n",
    "import h5py\n",
    "import matplotlib.pyplot as plt\n",
    "import cv2\n",
    "import seaborn as sns\n",
    "\n",
    "%matplotlib inline"
   ]
  },
  {
   "cell_type": "markdown",
   "metadata": {},
   "source": [
    "### Config from modules for ipynb"
   ]
  },
  {
   "cell_type": "code",
   "execution_count": 211,
   "metadata": {},
   "outputs": [],
   "source": [
    "import ipynb\n",
    "import importlib\n",
    "import ipynb.fs.full.modules.Config as ipynb_config"
   ]
  },
  {
   "cell_type": "code",
   "execution_count": 212,
   "metadata": {},
   "outputs": [
    {
     "data": {
      "text/plain": [
       "<module 'ipynb.fs.full.modules.Config' (/Users/dieumynguyen/Desktop/Projects/bee_communication_v2/ipynb/modules/Config.ipynb)>"
      ]
     },
     "execution_count": 212,
     "metadata": {},
     "output_type": "execute_result"
    }
   ],
   "source": [
    "importlib.reload(ipynb_config)"
   ]
  },
  {
   "cell_type": "code",
   "execution_count": 213,
   "metadata": {},
   "outputs": [],
   "source": [
    "X_MIN = ipynb_config.X_MIN\n",
    "X_MAX = ipynb_config.X_MAX\n",
    "DX = ipynb_config.DX\n",
    "GRID_SIZE = np.arange(X_MIN, X_MAX+DX, DX).shape[0]\n",
    "D = ipynb_config.DIFFUSION_COEFFICIENT\n",
    "DECAY = ipynb_config.DECAY\n",
    "T_MIN = ipynb_config.T_MIN\n",
    "T_MAX = ipynb_config.T_MAX\n",
    "DT = ipynb_config.DT\n",
    "NUM_TIMESTEPS = np.arange(T_MIN, T_MAX+DT, DT).shape[0]\n",
    "QUEEN_BEE_A = ipynb_config.QUEEN_INITIAL_CONCENTRATION\n",
    "WORKER_BEE_A = ipynb_config.WORKER_INITIAL_CONCENTRATION\n",
    "THRESHOLD = ipynb_config.WORKER_THRESHOLD\n",
    "WB = ipynb_config.WORKER_BIAS_SCALAR\n",
    "SEED = ipynb_config.RANDOM_SEED"
   ]
  },
  {
   "cell_type": "code",
   "execution_count": 214,
   "metadata": {},
   "outputs": [],
   "source": [
    "convert_xy_to_index = lambda xy: ((xy - X_MIN) / (X_MAX - X_MIN)) * GRID_SIZE"
   ]
  },
  {
   "cell_type": "markdown",
   "metadata": {},
   "source": [
    "### Config from script "
   ]
  },
  {
   "cell_type": "code",
   "execution_count": 215,
   "metadata": {},
   "outputs": [],
   "source": [
    "def read_config(base_exp_dir):\n",
    "    cfg_path = glob2.glob(f\"{base_exp_dir}/*.cfg\")[0]\n",
    "    cfg_path, os.path.exists(cfg_path)\n",
    "\n",
    "    with open(cfg_path, \"r\") as infile:\n",
    "        lines = [line.split() for line in infile]\n",
    "        cfg_opts = {}\n",
    "        for key, val in lines:\n",
    "            key = key.replace('--', '')\n",
    "\n",
    "            try:\n",
    "                val = float(val)\n",
    "            except:\n",
    "                try:\n",
    "                    val = int(val)\n",
    "                except:\n",
    "                    if val.startswith(\"T\"):\n",
    "                        val = True\n",
    "                    elif val.startswith(\"F\"):\n",
    "                        val = False\n",
    "                    pass\n",
    "            cfg_opts[key] = val\n",
    "    return cfg_opts"
   ]
  },
  {
   "cell_type": "code",
   "execution_count": 216,
   "metadata": {},
   "outputs": [
    {
     "data": {
      "text/plain": [
       "True"
      ]
     },
     "execution_count": 216,
     "metadata": {},
     "output_type": "execute_result"
    }
   ],
   "source": [
    "base_exp_dir = \"experiments/Q0.15_W0.15_D0.6_T0.01000_wb5.0_decay18.0_seed0\"\n",
    "os.path.exists(base_exp_dir)"
   ]
  },
  {
   "cell_type": "code",
   "execution_count": 217,
   "metadata": {},
   "outputs": [],
   "source": [
    "script_config = read_config(base_exp_dir)"
   ]
  },
  {
   "cell_type": "markdown",
   "metadata": {},
   "source": [
    "### Read h5 data & visualization"
   ]
  },
  {
   "cell_type": "code",
   "execution_count": 218,
   "metadata": {},
   "outputs": [],
   "source": [
    "ipynb_dev_config = True"
   ]
  },
  {
   "cell_type": "code",
   "execution_count": 219,
   "metadata": {},
   "outputs": [
    {
     "name": "stdout",
     "output_type": "stream",
     "text": [
      "True True ./envir_hist.h5\n"
     ]
    }
   ],
   "source": [
    "if not ipynb_dev_config:\n",
    "    env_path = os.path.join(base_exp_dir, \"envir_hist.h5\")\n",
    "    bee_path = os.path.join(base_exp_dir, \"bee_hist.h5\")\n",
    "    print(os.path.exists(env_path), os.path.exists(bee_path), env_path)\n",
    "else: \n",
    "    base_exp_dir = \"./\"\n",
    "    env_path = os.path.join(base_exp_dir, \"envir_hist.h5\")\n",
    "    bee_path = os.path.join(base_exp_dir, \"bee_hist.h5\")\n",
    "    print(os.path.exists(env_path), os.path.exists(bee_path), env_path)\n"
   ]
  },
  {
   "cell_type": "markdown",
   "metadata": {},
   "source": [
    "- #### Concentration maps"
   ]
  },
  {
   "cell_type": "code",
   "execution_count": 174,
   "metadata": {},
   "outputs": [],
   "source": [
    "with h5py.File(env_path, 'r') as infile:\n",
    "    cmaps = np.array(infile['concentration'])"
   ]
  },
  {
   "cell_type": "code",
   "execution_count": 175,
   "metadata": {},
   "outputs": [
    {
     "data": {
      "text/plain": [
       "(0.0, 0.9887049674987793)"
      ]
     },
     "execution_count": 175,
     "metadata": {},
     "output_type": "execute_result"
    }
   ],
   "source": [
    "# Min and max concentrations for heatmap\n",
    "min_c = np.min(cmaps[:501])\n",
    "max_c = np.max(cmaps[:501]) * 0.8\n",
    "min_c, max_c"
   ]
  },
  {
   "cell_type": "markdown",
   "metadata": {},
   "source": [
    "- #### Bee measurements"
   ]
  },
  {
   "cell_type": "code",
   "execution_count": 220,
   "metadata": {},
   "outputs": [],
   "source": [
    "bee_data = {}\n",
    "with h5py.File(bee_path, 'r') as infile:\n",
    "    for key, val in infile.items():\n",
    "        bee_data[key] = np.array(val)"
   ]
  },
  {
   "cell_type": "code",
   "execution_count": 221,
   "metadata": {},
   "outputs": [
    {
     "data": {
      "text/plain": [
       "(array([1.09746577, 0.22890423, 0.74405998, ..., 0.10585056, 0.29216039,\n",
       "        0.02520445]), (14000,))"
      ]
     },
     "execution_count": 221,
     "metadata": {},
     "output_type": "execute_result"
    }
   ],
   "source": [
    "bee_data['y'], bee_data['y'].shape"
   ]
  },
  {
   "cell_type": "code",
   "execution_count": 224,
   "metadata": {},
   "outputs": [
    {
     "data": {
      "text/plain": [
       "dict_keys(['bee_i', 'concentration', 'distance_from_queen', 'gradient_x', 'gradient_y', 'state', 't', 'threshold_met', 'wx', 'wy', 'x', 'y'])"
      ]
     },
     "execution_count": 224,
     "metadata": {},
     "output_type": "execute_result"
    }
   ],
   "source": [
    "bee_data.keys()"
   ]
  },
  {
   "cell_type": "code",
   "execution_count": 225,
   "metadata": {},
   "outputs": [],
   "source": [
    "bee_nums = np.unique(bee_data['bee_i'])\n",
    "bees = {}\n",
    "for bee_num in bee_nums:\n",
    "    idxs = np.where(bee_data['bee_i']==bee_num)\n",
    "    bee_x = bee_data['x'][idxs]\n",
    "    bee_y = bee_data['y'][idxs]\n",
    "    bee_state = bee_data['state'][idxs]\n",
    "    distance = bee_data['distance_from_queen'][idxs]\n",
    "    bee_grads = bee_data['gradient_x'][idxs], bee_data['gradient_y'][idxs]\n",
    "    bias = bee_data['wx'][idxs], bee_data['wy'][idxs]\n",
    "    concentration = bee_data['concentration'][idxs]\n",
    "    threshold_met = bee_data['threshold_met'][idxs]\n",
    "    bees[bee_num] = {\"x\" : bee_x, \"y\" : bee_y, \"state\": bee_state,\n",
    "                    \"distance\": distance, \"grads\" : bee_grads,\n",
    "                    \"concentration\": concentration, \n",
    "                     \"threshold_met\" : threshold_met}"
   ]
  },
  {
   "cell_type": "markdown",
   "metadata": {},
   "source": [
    "### Plot concentration before scenting"
   ]
  },
  {
   "cell_type": "code",
   "execution_count": 307,
   "metadata": {},
   "outputs": [
    {
     "data": {
      "image/png": "[encoded data removed]",
      "text/plain": [
       "<matplotlib.figure.Figure at 0x114108be0>"
      ]
     },
     "metadata": {},
     "output_type": "display_data"
    }
   ],
   "source": [
    "sns.set(style=\"ticks\")\n",
    "time = len(single_bee['state'])\n",
    "time_array = np.arange(0, time)\n",
    "concentrations = []\n",
    "\n",
    "before_scenting_only = False\n",
    "\n",
    "for bee_i, bee in enumerate(bees):\n",
    "    single_bee = bees[bee_i]\n",
    "    for t in time_array:\n",
    "        state = single_bee['state'][t]\n",
    "        threshold_met = single_bee['threshold_met'][t]\n",
    "\n",
    "        if before_scenting_only:\n",
    "            if state == 1:\n",
    "                concentration = single_bee['concentration'][t-1]\n",
    "                concentrations.append(concentration)\n",
    "                \n",
    "        else:\n",
    "            if state == 1 or state == 3:\n",
    "                concentration = single_bee['concentration'][t-1]\n",
    "                concentrations.append(concentration)\n",
    "                \n",
    "plt.hist(concentrations, color=\"green\", bins=100)\n",
    "plt.xlabel(\"Concentration\")\n",
    "plt.ylabel(\"Frequency\")\n",
    "plt.ylim(0, 650)\n",
    "if before_scenting_only:\n",
    "    plt.title(f'Distribution of concentration before scenting \\n time=0-{time}')\n",
    "    plt.savefig('worker_concentration/before_scenting.png')\n",
    "else:\n",
    "    plt.title(f'Distribution of concentration before scenting OR directed walk \\n time=0-{time}')\n",
    "    plt.savefig('worker_concentration/before_scenting_or_directed.png')\n",
    "plt.show()"
   ]
  },
  {
   "cell_type": "code",
   "execution_count": 308,
   "metadata": {},
   "outputs": [
    {
     "data": {
      "text/plain": [
       "4989"
      ]
     },
     "execution_count": 308,
     "metadata": {},
     "output_type": "execute_result"
    }
   ],
   "source": [
    "len(concentrations)"
   ]
  },
  {
   "cell_type": "markdown",
   "metadata": {},
   "source": [
    "### Make frames"
   ]
  },
  {
   "cell_type": "code",
   "execution_count": 176,
   "metadata": {},
   "outputs": [],
   "source": [
    "colors = [\"red\", \"gray\", \"#479030\", \"orange\", \"blue\"]\n",
    "color_decoder = {\n",
    "    0: colors[1],\n",
    "    1: colors[2],\n",
    "    2: colors[2],\n",
    "    3: colors[3],\n",
    "    4: colors[4]\n",
    "}"
   ]
  },
  {
   "cell_type": "code",
   "execution_count": 177,
   "metadata": {},
   "outputs": [],
   "source": [
    "plt.rcParams[\"font.family\"] = \"Arial\""
   ]
  },
  {
   "cell_type": "code",
   "execution_count": 178,
   "metadata": {},
   "outputs": [],
   "source": [
    "TIME = cmaps.shape[0]"
   ]
  },
  {
   "cell_type": "code",
   "execution_count": 179,
   "metadata": {
    "scrolled": true
   },
   "outputs": [
    {
     "name": "stdout",
     "output_type": "stream",
     "text": [
      "Frame 200/200"
     ]
    }
   ],
   "source": [
    "# !rm experiments/*.png\n",
    "# min_c = None\n",
    "# max_c = None\n",
    "savepath = \"\"\n",
    "for frame_i in range(cmaps.shape[0]):\n",
    "    sys.stdout.write(f\"\\rFrame {frame_i+1}/{TIME}\")\n",
    "    sys.stdout.flush()\n",
    "    \n",
    "    # CONCENTRATION\n",
    "    cmap = cmaps[frame_i]\n",
    "    plt.imshow(cmap, cmap='Greens', vmin=min_c, vmax=max_c)\n",
    "    plt.colorbar(shrink=0.8, format='%.2f')  \n",
    "    \n",
    "    # QUEEN\n",
    "    queen = convert_xy_to_index(0)\n",
    "    plt.scatter(queen, queen, c=\"red\", s=100, edgecolors='black', marker='o')     \n",
    "    \n",
    "    # WORKERS\n",
    "    for bee_key, bee_vals in bees.items():\n",
    "        x = bee_vals['x'][frame_i]\n",
    "        y = bee_vals['y'][frame_i]\n",
    "        state = bee_vals['state'][frame_i]\n",
    "        color = color_decoder[state]\n",
    "        plt.scatter(convert_xy_to_index(x), convert_xy_to_index(y), \n",
    "                    color=color, s=30, edgecolors='black')\n",
    "        \n",
    "    # FORMATTING\n",
    "    texts = [\"Queen\", \"Random walk pre-scenting\", \"Scenting\", \"Directed walk\", \"Random walk post-scenting\"]\n",
    "    patches = [ plt.plot([],[], marker=\"o\", ms=5, ls=\"\", mec=None, color=colors[i], \n",
    "                markeredgecolor=\"black\", label=\"{:s}\".format(texts[i]) )[0]  for i in range(len(texts)) ]\n",
    "    plt.legend(handles=patches, bbox_to_anchor=(0.5, -0.22), \n",
    "               loc='center', ncol=2, numpoints=1, labelspacing=0.3,\n",
    "               fontsize='small', fancybox=\"True\",\n",
    "               handletextpad=0, columnspacing=0)\n",
    "    plt.xlabel(\"x\")\n",
    "    plt.ylabel(\"y\")\n",
    "    plt.xlim(0, 600)\n",
    "    plt.ylim(600, 0) \n",
    "\n",
    "    if ipynb_dev_config:\n",
    "        plt.title(f\"Q{QUEEN_BEE_A}_W{WORKER_BEE_A}_D{D}_T{THRESHOLD}_wb{WB}_decay{DECAY}_seed{SEED} \\n t: {frame_i+1}/{TIME-1}\")\n",
    "    else:\n",
    "        num_timesteps = np.arange(script_config['t_min'], script_config['t_max']+script_config['dt'], script_config['dt']).shape[0]\n",
    "        Q = script_config['queen_initial_concentration']\n",
    "        W = script_config['worker_initial_concentration']\n",
    "        D = script_config['diffusion_coefficient']\n",
    "        T = script_config['worker_threshold']\n",
    "        wb = int(script_config['worker_bias_scalar'])\n",
    "        decay = int(script_config['decay'])\n",
    "        seed = int(script_config['random_seed'])\n",
    "        title = f\"Q{Q}_W{W}_D{D}_T{T:0.5f}_wb{wb}_decay{decay}\"\n",
    "        savepath = f\"{title}_seed{seed}.mp4\"\n",
    "        plt.title(f\"{title} \\n t: {frame_i+1}/{TIME-1}\")\n",
    "          \n",
    "    # SAVING FRAMES\n",
    "    file_path = f't{frame_i+1:03d}.png'\n",
    "    filename = f'{ipynb_config.SAVE_FOLDER}/{file_path}' \n",
    "    plt.savefig(filename, bbox_inches='tight', dpi=100)\n",
    "    plt.close()"
   ]
  },
  {
   "cell_type": "markdown",
   "metadata": {},
   "source": [
    "## Video Stuff"
   ]
  },
  {
   "cell_type": "code",
   "execution_count": 180,
   "metadata": {},
   "outputs": [],
   "source": [
    "all_img_paths = np.sort(glob2.glob(\"experiments/*.png\"))\n",
    "all_imgs = np.array([cv2.imread(img) for img in all_img_paths])\n",
    "\n",
    "def imgs2vid(imgs, outpath, fps=4):\n",
    "    height, width, layers = imgs[0].shape\n",
    "    fourcc = cv2.VideoWriter_fourcc(\"m\", \"p\", \"4\", \"v\")\n",
    "    video = cv2.VideoWriter(outpath, fourcc, fps, (width, height), True)\n",
    "    \n",
    "    for img in imgs:\n",
    "        video.write(img)\n",
    "        \n",
    "    cv2.destroyAllWindows()\n",
    "    video.release()\n",
    "    \n",
    "if ipynb_dev_config:\n",
    "    imgs2vid(all_imgs, ipynb_config.VID_PATH)\n",
    "else:\n",
    "    savepath = f\"experiments/{savepath}\"\n",
    "    imgs2vid(all_imgs, savepath)\n"
   ]
  },
  {
   "cell_type": "code",
   "execution_count": null,
   "metadata": {},
   "outputs": [],
   "source": [
    "# Slow as hell \n",
    "# if ipynb_dev_config:\n",
    "#     !convert -delay 25 $ipynb_config.SAVE_FOLDER/t*.png $ipynb_config.VID_PATH\n",
    "# else: \n",
    "#     savepath = f\"experiments/{savepath}\"\n",
    "#     !convert -delay 25 $ipynb_config.SAVE_FOLDER/t*.png $savepath\n"
   ]
  },
  {
   "cell_type": "code",
   "execution_count": 42,
   "metadata": {},
   "outputs": [
    {
     "name": "stdout",
     "output_type": "stream",
     "text": [
      "/bin/sh: .VID_PATH: command not found\r\n"
     ]
    }
   ],
   "source": [
    "VLC = \"/Applications/VLC.app/Contents/MacOS/VLC\"\n",
    "!$VLC $config.VID_PATH"
   ]
  },
  {
   "cell_type": "code",
   "execution_count": null,
   "metadata": {},
   "outputs": [],
   "source": []
  },
  {
   "cell_type": "code",
   "execution_count": 1,
   "metadata": {},
   "outputs": [],
   "source": [
    "import numpy as np"
   ]
  },
  {
   "cell_type": "code",
   "execution_count": 2,
   "metadata": {},
   "outputs": [
    {
     "data": {
      "text/plain": [
       "(dtype('float16'), '0.0576 GB')"
      ]
     },
     "execution_count": 2,
     "metadata": {},
     "output_type": "execute_result"
    }
   ],
   "source": [
    "x = np.zeros((80, 600, 600), dtype=np.float16)\n",
    "x.dtype, f\"{x.nbytes / 1e9} GB\""
   ]
  },
  {
   "cell_type": "code",
   "execution_count": 3,
   "metadata": {},
   "outputs": [
    {
     "data": {
      "text/plain": [
       "(dtype('float32'), '0.1152 GB')"
      ]
     },
     "execution_count": 3,
     "metadata": {},
     "output_type": "execute_result"
    }
   ],
   "source": [
    "y = np.ones((80, 600, 600), dtype=np.float32)\n",
    "y.dtype, f\"{y.nbytes / 1e9} GB\""
   ]
  },
  {
   "cell_type": "code",
   "execution_count": 4,
   "metadata": {},
   "outputs": [
    {
     "data": {
      "text/plain": [
       "dtype('float16')"
      ]
     },
     "execution_count": 4,
     "metadata": {},
     "output_type": "execute_result"
    }
   ],
   "source": [
    "x += y\n",
    "x.dtype"
   ]
  },
  {
   "cell_type": "code",
   "execution_count": 6,
   "metadata": {},
   "outputs": [
    {
     "data": {
      "image/png": "[encoded data removed]",
      "text/plain": [
       "<matplotlib.figure.Figure at 0x114299ef0>"
      ]
     },
     "metadata": {},
     "output_type": "display_data"
    }
   ],
   "source": [
    "x = np.arange(1, 100)\n",
    "y = x * 2\n",
    "plt.plot(x, y);"
   ]
  },
  {
   "cell_type": "code",
   "execution_count": null,
   "metadata": {},
   "outputs": [],
   "source": []
  }
 ],
 "metadata": {
  "kernelspec": {
   "display_name": "Python 3",
   "language": "python",
   "name": "python3"
  },
  "language_info": {
   "codemirror_mode": {
    "name": "ipython",
    "version": 3
   },
   "file_extension": ".py",
   "mimetype": "text/x-python",
   "name": "python",
   "nbconvert_exporter": "python",
   "pygments_lexer": "ipython3",
   "version": "3.6.4"
  }
 },
 "nbformat": 4,
 "nbformat_minor": 2
}
