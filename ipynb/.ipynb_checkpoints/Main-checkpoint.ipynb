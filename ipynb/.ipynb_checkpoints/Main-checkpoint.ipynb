{
 "cells": [
  {
   "cell_type": "markdown",
   "metadata": {},
   "source": [
    "### Imports"
   ]
  },
  {
   "cell_type": "code",
   "execution_count": 1,
   "metadata": {},
   "outputs": [],
   "source": [
    "import warnings\n",
    "warnings.filterwarnings(\"ignore\")\n",
    "\n",
    "import os\n",
    "import sys\n",
    "import numpy as np\n",
    "import glob2\n",
    "import h5py\n",
    "\n",
    "%matplotlib inline"
   ]
  },
  {
   "cell_type": "code",
   "execution_count": 2,
   "metadata": {},
   "outputs": [],
   "source": [
    "import ipynb\n",
    "import importlib"
   ]
  },
  {
   "cell_type": "code",
   "execution_count": 3,
   "metadata": {},
   "outputs": [],
   "source": [
    "import ipynb.fs.full.modules.Environment as Environment\n",
    "import ipynb.fs.full.modules.Bees as Bees\n",
    "import ipynb.fs.full.modules.Utils as Utils\n",
    "import ipynb.fs.full.modules.Config as config\n",
    "import ipynb.fs.full.modules.BeeKeeper as BeeKeeper"
   ]
  },
  {
   "cell_type": "markdown",
   "metadata": {},
   "source": [
    "# RUN"
   ]
  },
  {
   "cell_type": "code",
   "execution_count": 4,
   "metadata": {},
   "outputs": [
    {
     "data": {
      "text/plain": [
       "<module 'ipynb.fs.full.modules.BeeKeeper' (C:\\Users\\mliuzzolino\\Desktop\\bee_communication_v2\\ipynb\\modules\\BeeKeeper.ipynb)>"
      ]
     },
     "execution_count": 4,
     "metadata": {},
     "output_type": "execute_result"
    }
   ],
   "source": [
    "importlib.reload(Environment)\n",
    "importlib.reload(Bees)\n",
    "importlib.reload(Utils)\n",
    "importlib.reload(config)\n",
    "importlib.reload(BeeKeeper)"
   ]
  },
  {
   "cell_type": "code",
   "execution_count": 5,
   "metadata": {},
   "outputs": [
    {
     "data": {
      "text/plain": [
       "(80, 5.0)"
      ]
     },
     "execution_count": 5,
     "metadata": {},
     "output_type": "execute_result"
    }
   ],
   "source": [
    "config.RANDOM_SEED, config.WORKER_BIAS_SCALAR"
   ]
  },
  {
   "cell_type": "code",
   "execution_count": 6,
   "metadata": {},
   "outputs": [],
   "source": [
    "def create_bees():\n",
    "    bees = []\n",
    "    for bee_i in range(config.NUM_WORKERS):\n",
    "        bee_params = config.BEE_PARAMS\n",
    "        bee_params[\"num\"] = bee_i\n",
    "        bee = Bees.Worker(bee_params)\n",
    "        bees.append(bee)\n",
    "    return bees"
   ]
  },
  {
   "cell_type": "code",
   "execution_count": 11,
   "metadata": {
    "scrolled": true
   },
   "outputs": [
    {
     "name": "stdout",
     "output_type": "stream",
     "text": [
      "Creating concentration map...\n",
      "Creating timecourse...\n",
      "Timestep: 32/200\n",
      "Ending early.\n"
     ]
    }
   ],
   "source": [
    "np.random.seed(config.RANDOM_SEED)\n",
    "\n",
    "# Setup directory\n",
    "Utils.setup_directories(config.SAVE_FOLDER)\n",
    "\n",
    "# CREATE CLASS OBJECTS\n",
    "# ------------------------------------------------------------\n",
    "environment = Environment.Environment(config.ENVIRONMENT_PARAMS)\n",
    "queen_bee = Bees.Queen(config.QUEEN_PARAMS)\n",
    "bees = create_bees()\n",
    "bee_keeper = BeeKeeper.BeeKeeper(config.BEE_KEEPER_PARAMS)\n",
    "# ------------------------------------------------------------\n",
    "\n",
    "# Cleanup previous pngs\n",
    "for old_file_path in glob2.glob(f\"{config.SAVE_FOLDER}/t*.png\"):\n",
    "    os.remove(old_file_path)\n",
    "\n",
    "# ============================================================\n",
    "try:\n",
    "    for global_i, t_i in enumerate(environment):\n",
    "        sys.stdout.write(f\"\\rTimestep: {global_i+1}/{environment.t_grid.shape[0]}\")\n",
    "        sys.stdout.flush()\n",
    "\n",
    "        # Step 1: Check for and build sources list for current timestep\n",
    "        # ----------------------------------------------------\n",
    "        # Update pheromone list from queen bee\n",
    "        environment.update_pheromone_sources(queen_bee, t_i)\n",
    "\n",
    "        # Update pheromone list from worker bees\n",
    "        for bee_i, bee in enumerate(bees):\n",
    "            environment.update_pheromone_sources(bee, t_i)\n",
    "        # ----------------------------------------------------\n",
    "\n",
    "        # Step 2: Build Concentration map and get gradients\n",
    "        # ----------------------------------------------------\n",
    "        # Init concentration map for current timestep to 0's\n",
    "        # environment.init_concentration_map()\n",
    "        # Iterate through pheromone sources and build concentration maps\n",
    "        # -- for each pheromone source, calculate gradient for each bee\n",
    "        for pheromone_src in environment.pheromone_sources:\n",
    "            # Update concentration map with x, y, A, dt, etc.\n",
    "            pheromone_src_C = environment.update_concentration_map(t_i, pheromone_src)   \n",
    "            \n",
    "            # Iterate through list of active bees and calculate gradient\n",
    "            for bee in bees:\n",
    "                threshold_met = bee.check_threshold(environment, pheromone_src_C)\n",
    "                if threshold_met:\n",
    "                    grad = environment.calculate_gradient(t_i, bee.x, bee.y, pheromone_src)\n",
    "                    bee.update_gradient(grad)\n",
    "        # ----------------------------------------------------\n",
    "\n",
    "        # Step 3: Update bees & environment\n",
    "        # ----------------------------------------------------\n",
    "        queen_bee.update()\n",
    "\n",
    "        for bee_i, bee in enumerate(bees):\n",
    "            # Check if bee's threshold is met then update based on state\n",
    "            _ = bee.check_threshold(environment, environment.concentration_map)\n",
    "            bee.update()\n",
    "            \n",
    "            # Measure and store bee info\n",
    "            bee_keeper.measure_bees(bee, queen_bee, global_i)\n",
    "\n",
    "        # Store concentration maps\n",
    "        bee_keeper.measure_environment(environment)\n",
    "        # ----------------------------------------------------\n",
    "\n",
    "        # Take steps (update movement, clear grads, etc)\n",
    "        queen_bee.step()\n",
    "        for bee in bees:\n",
    "            bee.step(environment)\n",
    "    \n",
    "    bee_keeper.log_data_to_handy_dandy_notebook()\n",
    "    \n",
    "except KeyboardInterrupt:\n",
    "    print(\"\\nEnding early.\")\n",
    "    bee_keeper.log_data_to_handy_dandy_notebook()\n",
    "    "
   ]
  }
 ],
 "metadata": {
  "kernelspec": {
   "display_name": "Python [default]",
   "language": "python",
   "name": "python3"
  },
  "language_info": {
   "codemirror_mode": {
    "name": "ipython",
    "version": 3
   },
   "file_extension": ".py",
   "mimetype": "text/x-python",
   "name": "python",
   "nbconvert_exporter": "python",
   "pygments_lexer": "ipython3",
   "version": "3.6.7"
  }
 },
 "nbformat": 4,
 "nbformat_minor": 2
}
