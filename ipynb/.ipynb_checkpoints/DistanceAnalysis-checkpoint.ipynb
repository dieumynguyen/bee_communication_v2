{
 "cells": [
  {
   "cell_type": "code",
   "execution_count": 2,
   "metadata": {},
   "outputs": [],
   "source": [
    "import numpy as np\n",
    "import matplotlib.pyplot as plt\n",
    "import seaborn as sns"
   ]
  },
  {
   "cell_type": "code",
   "execution_count": 3,
   "metadata": {},
   "outputs": [],
   "source": [
    "plt.rcParams[\"font.family\"] = \"Arial\"\n",
    "sns.set(style=\"ticks\")"
   ]
  },
  {
   "cell_type": "code",
   "execution_count": 4,
   "metadata": {},
   "outputs": [],
   "source": [
    "# All params\n",
    "Q_list = [0.15]\n",
    "W_list = [0.15]\n",
    "D_list = [0.6]\n",
    "T_list = [0.00001, 0.0001, 0.001, 0.01, 0.025, 0.05, 0.075, 0.1, 0.25, 0.5, 0.75, 1.0]\n",
    "wb_list = [5.0]\n",
    "decay_list = [18.0]\n",
    "Time = np.arange(0, 400, 0.05)"
   ]
  },
  {
   "cell_type": "code",
   "execution_count": 5,
   "metadata": {},
   "outputs": [],
   "source": [
    "def calc_distance(vx, t, D, W, T, decay):\n",
    "    term = np.sqrt(np.log(W/np.sqrt(t)) - np.log(T) - decay*t)\n",
    "    L = vx*t + 2*np.sqrt(D*t) * term\n",
    "    return L"
   ]
  },
  {
   "cell_type": "code",
   "execution_count": null,
   "metadata": {},
   "outputs": [],
   "source": []
  },
  {
   "cell_type": "code",
   "execution_count": null,
   "metadata": {},
   "outputs": [],
   "source": []
  },
  {
   "cell_type": "code",
   "execution_count": 11,
   "metadata": {},
   "outputs": [
    {
     "name": "stderr",
     "output_type": "stream",
     "text": [
      "/Users/dieumynguyen/anaconda3/lib/python3.6/site-packages/ipykernel_launcher.py:7: RuntimeWarning: invalid value encountered in sqrt\n",
      "  import sys\n"
     ]
    },
    {
     "data": {
      "text/plain": [
       "nan"
      ]
     },
     "execution_count": 11,
     "metadata": {},
     "output_type": "execute_result"
    }
   ],
   "source": [
    "gamma = 0\n",
    "t = 20\n",
    "termA = phi_c * t/np.sqrt(phi_0) + gamma*t\n",
    "term = -4*D*t * np.log(termA)\n",
    "\n",
    "# Issue with square root with \"term\"\n",
    "np.sqrt(term)"
   ]
  },
  {
   "cell_type": "code",
   "execution_count": null,
   "metadata": {},
   "outputs": [],
   "source": []
  },
  {
   "cell_type": "code",
   "execution_count": 7,
   "metadata": {},
   "outputs": [],
   "source": [
    "def calc_distance(vx, t, D, phi_0, phi_c, gamma):\n",
    "    termA = phi_c * t/np.sqrt(phi_0) + gamma*t\n",
    "    term = -4*D*t * np.log(termA)\n",
    "    L = vx*t + np.sqrt(term)\n",
    "    return L"
   ]
  },
  {
   "cell_type": "code",
   "execution_count": 8,
   "metadata": {},
   "outputs": [],
   "source": [
    "constraint = lambda t, q0, qc, gamma: t < qc**2 / (gamma*2*q0 + 1e-6) "
   ]
  },
  {
   "cell_type": "code",
   "execution_count": null,
   "metadata": {},
   "outputs": [
    {
     "name": "stderr",
     "output_type": "stream",
     "text": [
      "/Users/dieumynguyen/anaconda3/lib/python3.6/site-packages/ipykernel_launcher.py:4: RuntimeWarning: invalid value encountered in sqrt\n",
      "  after removing the cwd from sys.path.\n"
     ]
    }
   ],
   "source": [
    "Time = np.arange(0, 400, 0.05) + 0.01\n",
    "\n",
    "vx = 0\n",
    "D = 0.6\n",
    "phi_0 = 0.15\n",
    "gamma = 0\n",
    "phi_cs = [0.00001, 0.0001, 0.001, 0.01, 0.025, 0.05, 0.075, 0.1, 0.25, 0.5, 0.75, 1.0]\n",
    "\n",
    "y = []\n",
    "\n",
    "# Varying over gamma\n",
    "for i, phi_c in enumerate(phi_cs):\n",
    "    t_ = np.array([t for t in Time if constraint(t, phi_c, phi_0, gamma)])\n",
    "    distance = calc_distance(vx=vx, t=t_, D=D, phi_0=phi_0, phi_c=phi_c, gamma=gamma)\n",
    "    plt.plot(t_, distance, label=phi_c)\n",
    "    # plt.fill_between(t_, distance, facecolor=colors[i], alpha=0.25, interpolate=True)\n",
    "\n",
    "plt.legend(title=\"phi_c/threshold\", loc=(1.01, 0))\n",
    "plt.title(f\"vx={vx}, D={D}, phi_0={phi_0}, gamma={gamma}\")\n",
    "plt.xlabel(\"Time\")\n",
    "plt.ylabel(\"L(t)\")\n",
    "ax = plt.gca()\n",
    "ax.xaxis.grid(b=True, color='k', alpha=0.2, linestyle='--', linewidth=1)\n",
    "ax.yaxis.grid(b=True, color='k', alpha=0.2, linestyle='--', linewidth=1)\n",
    "ax.spines['right'].set_visible(False)\n",
    "ax.spines['top'].set_visible(False)"
   ]
  },
  {
   "cell_type": "markdown",
   "metadata": {},
   "source": [
    "### Diffusion Equation"
   ]
  },
  {
   "cell_type": "code",
   "execution_count": 23,
   "metadata": {},
   "outputs": [],
   "source": [
    "Q0 = 0.1\n",
    "wx = 0\n",
    "gamma = 0.1\n",
    "D = 0.1\n",
    "x = 1\n",
    "get_C = lambda t, Q0=0.1, gamma=0.1: np.sqrt(Q0/t) * np.exp(-(x-wx*t)**2 / (4*D*t) - gamma*t)"
   ]
  },
  {
   "cell_type": "code",
   "execution_count": 26,
   "metadata": {},
   "outputs": [
    {
     "data": {
      "text/plain": [
       "<matplotlib.legend.Legend at 0x1a164c7ef0>"
      ]
     },
     "execution_count": 26,
     "metadata": {},
     "output_type": "execute_result"
    },
    {
     "data": {
      "image/png": "[encoded data removed]",
      "text/plain": [
       "<matplotlib.figure.Figure at 0x1a164c76a0>"
      ]
     },
     "metadata": {},
     "output_type": "display_data"
    }
   ],
   "source": [
    "T = np.arange(0, 100, 0.1) + 0.1\n",
    "for g in [0, 0.1, 0.5, 1]:\n",
    "    C = get_C(T, gamma=g)\n",
    "    plt.plot(T, C, label=g)\n",
    "plt.legend(loc=(1.5,0))"
   ]
  },
  {
   "cell_type": "code",
   "execution_count": null,
   "metadata": {},
   "outputs": [],
   "source": []
  }
 ],
 "metadata": {
  "kernelspec": {
   "display_name": "Python 3",
   "language": "python",
   "name": "python3"
  },
  "language_info": {
   "codemirror_mode": {
    "name": "ipython",
    "version": 3
   },
   "file_extension": ".py",
   "mimetype": "text/x-python",
   "name": "python",
   "nbconvert_exporter": "python",
   "pygments_lexer": "ipython3",
   "version": "3.6.4"
  }
 },
 "nbformat": 4,
 "nbformat_minor": 2
}
